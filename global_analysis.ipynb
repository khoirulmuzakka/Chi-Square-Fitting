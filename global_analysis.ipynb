{
 "cells": [
  {
   "cell_type": "code",
   "execution_count": 1,
   "metadata": {},
   "outputs": [],
   "source": [
    "import numpy as np\n",
    "import matplotlib.pyplot as plt\n",
    "import matplotlib.cm as cm\n",
    "import pandas as pd\n",
    "from IPython.display import display\n",
    "from scipy.optimize import differential_evolution\n",
    "from scipy.optimize import minimize"
   ]
  },
  {
   "cell_type": "code",
   "execution_count": 2,
   "metadata": {},
   "outputs": [],
   "source": [
    "# Helper functions\n",
    "def delta (i, j) :\n",
    "    if i==j :\n",
    "        return 1\n",
    "    else :\n",
    "        return 0\n",
    "  \n",
    "def secondDerivative (i, j, fun, params) :\n",
    "    stepi = 0.001*abs(params[i]) + 1e-10\n",
    "    stepj = 0.001*abs(params[j] ) + 1e-10\n",
    "    parplusplus = params.copy()\n",
    "    parplusminus = params.copy()\n",
    "    parminusplus = params.copy()\n",
    "    parminusminus = params.copy()\n",
    "    parplusplus[i] = parplusplus[i] + stepi\n",
    "    parplusplus[j] = parplusplus[j] + stepj\n",
    "    parplusminus[i] = parplusminus[i] + stepi\n",
    "    parplusminus[j] = parplusminus[j] - stepj \n",
    "    parminusplus[i] = parminusplus[i] - stepi\n",
    "    parminusplus[j] = parminusplus[j] + stepj\n",
    "    parminusminus[i] = parminusminus[i] - stepi\n",
    "    parminusminus[j] = parminusminus[j] - stepj\n",
    "    ret = (1/(4*stepi*stepj)) * (fun(parplusplus)+ fun(parminusminus) - fun(parplusminus)- fun(parminusplus))\n",
    "    return ret\n",
    "    \n",
    "def getHessian(fun, params) : \n",
    "    dim = len(params)\n",
    "    hess = np.zeros([dim,dim])\n",
    "    for i in range(dim) :\n",
    "        for j in range(dim) :\n",
    "            hess[i][j] = secondDerivative(i, j, fun, params)/2.0\n",
    "    #print(hess)\n",
    "    return hess\n",
    "    "
   ]
  },
  {
   "cell_type": "code",
   "execution_count": 3,
   "metadata": {},
   "outputs": [],
   "source": [
    "class DatasetGenerator :\n",
    "    ''' \n",
    "    argument : \n",
    "    - theoryParams : list of theory parameter\n",
    "    - theoryPrediction : a function (double x, List(double))\n",
    "    - xGrid : list of x \n",
    "    - stats : list of the statistical error\n",
    "    - systFluct : list of systematic fluctuation \n",
    "    - **syst : dictionary of systematicfluctuation\n",
    "    '''\n",
    "    def __init__(self, theoryParams, theoryPredictions, xGrid, stats, systFluct, *syst) : #dataPd must of the form numpy array: xGrid , data\n",
    "        self.theoryParams = theoryParams # theory params\n",
    "        self.xGrid = np.array(xGrid) # grid of x\n",
    "        self.statsSpread = np.array(stats)  #statistical error\n",
    "        self.systFluct = np.array(systFluct) #systeatic fluctuation\n",
    "        self.theoryPredictions = theoryPredictions #theory prediction        \n",
    "        self.systSpread= np.array([sys for sys in syst]) #systematic error \n",
    "        self.syst= np.array([self.systFluct[i]*self.systSpread[i] for i in range(len(self.systSpread))])# systematic fluctuation * systematic error\n",
    "        self.stats = np.array([np.random.normal()*el for el in self.statsSpread])\n",
    "        self.numSyst = len(self.systSpread)\n",
    "        self.numData = len(xGrid)\n",
    "        assert (len(xGrid) == len(self.statsSpread))\n",
    "        assert (len(self.systFluct) == len(self.systSpread)) \n",
    "        print (\"Real statistical error : \", self.stats)\n",
    "        print (\"Real systematic error : \", self.syst)\n",
    "        self.totErr = []\n",
    "        for i in range(len(xGrid)) :\n",
    "            c = self.statsSpread[i]**2\n",
    "            for sys in self.systSpread: \n",
    "                c = c+ sys[i]**2\n",
    "            self.totErr.append(c**(0.5))            \n",
    "        self.generateDataset()\n",
    "        self.getCovarianceMatrix()\n",
    "        \n",
    "        plt.figure()\n",
    "        plt.errorbar(self.xGrid, self.data, self.totErr, linestyle=\" \", marker= \"o\", label=\"Data\" )\n",
    "        plt.plot(self.xGrid, self.theo, label=\"Generator\")\n",
    "        plt.show()\n",
    "\n",
    "    \n",
    "    def generateData (self) :\n",
    "        self.theo = np.array([self.theoryPredictions(x, self.theoryParams) for x in self.xGrid ]  )\n",
    "        self.data = self.theo + self.stats\n",
    "        for syst in self.syst :\n",
    "            self.data = self.data + syst\n",
    "        return self.data\n",
    "        \n",
    "    def generateDataset(self) :\n",
    "        self.generateData()\n",
    "        self.dataset= [self.xGrid, self.data, self.theo, self.statsSpread] #xGrid, data, theo, stats, syst\n",
    "        cols = [\"x\", \"data\", \"theory\", \"stats\" ]\n",
    "        for i in range(self.numSyst):\n",
    "            self.dataset.append(self.systSpread[i])\n",
    "            cols.append(\"syst_\"+str(i))       \n",
    "        #print(np.array(self.dataset))\n",
    "        self.dataDF = pd.DataFrame(np.array(self.dataset).T, columns= cols)\n",
    "        display(self.dataDF)\n",
    "        \n",
    "    def generateReplica(self) :\n",
    "        stat = np.array([np.random.normal()*el for el in self.statsSpread])\n",
    "        systFluct = np.array([np.random.normal() for i in range(self.numSyst)])\n",
    "        #print(\"syt fluct : \", systFluct)\n",
    "        syst = np.array([systFluct[i]*self.systSpread[i] for i in range(self.numSyst)])\n",
    "        data = self.theo + stat\n",
    "        for i in range(self.numSyst) :\n",
    "            data = data + syst[i]\n",
    "        return data \n",
    "    \n",
    "    def generateReplicaFromData(self) :\n",
    "        stat = np.array([np.random.normal()*el for el in self.statsSpread])\n",
    "        systFluct = np.array([np.random.normal() for i in range(self.numSyst)])\n",
    "        #print(\"syt fluct : \", systFluct)\n",
    "        syst = np.array([systFluct[i]*self.systSpread[i] for i in range(self.numSyst)])\n",
    "        data = self.data + stat\n",
    "        for i in range(self.numSyst) :\n",
    "            data = data + syst[i]\n",
    "        return data \n",
    "    \n",
    "    def getCovarianceMatrix (self):\n",
    "        self.corr = np.zeros([self.numData,self.numData])\n",
    "        for i in range(self.numData) :\n",
    "            for j in range(self.numData) :\n",
    "                systcorr= 0.0\n",
    "                for a in range(self.numSyst) :\n",
    "                    systcorr = systcorr + self.systSpread[a][i]*self.systSpread[a][j]\n",
    "                self.corr[i, j] =  delta(i,j)*(self.statsSpread[i]**2)+ systcorr      \n",
    "        self.corrInv = np.linalg.inv(self.corr) \n",
    "\n",
    "\n",
    "class ChiSquare :   \n",
    "    def __init__(self, dataGenerator, theoryPredictions):\n",
    "        self.dataGen = dataGenerator\n",
    "        self.theo = theoryPredictions\n",
    "        self.data = self.dataGen.data\n",
    "        self.xGrid = self.dataGen.xGrid\n",
    "        self.numPoints = len(self.dataGen.xGrid)\n",
    "        self.getCovarianceMatrix()\n",
    "                \n",
    "    def getCovarianceMatrix (self): #pure virtual function\n",
    "        raise NotImplementedError                  \n",
    "                    \n",
    "    def chi2(self, params):#pure virtual function\n",
    "        raise NotImplementedError       \n",
    "\n",
    "            \n",
    "class ChiSquareCorr (ChiSquare):\n",
    "    def __init__(self, dataGenerator, theoryPredictions, useCorr = True):\n",
    "        self.useCorr = useCorr\n",
    "        super().__init__(dataGenerator, theoryPredictions)\n",
    "        \n",
    "    def getCovarianceMatrix (self):\n",
    "        self.corr = self.dataGen.corr\n",
    "        self.corrInv = self.dataGen.corrInv\n",
    "        if not self.useCorr : #if correlation is ignored\n",
    "            for i in range(self.numPoints ) :\n",
    "                for j in range(self.numPoints ) :\n",
    "                    if (i != j) :\n",
    "                        self.corr[i][j] = 0.0\n",
    "                        self.corrInv[i][j] = 0.0                        \n",
    "                    \n",
    "    def chi2(self, theoryParams):\n",
    "        theory = np.array([self.theo(x, theoryParams) for x in self.xGrid])\n",
    "        chi2 = np.dot( (self.data-theory), np.dot(self.corrInv, (self.data-theory)))\n",
    "        return chi2\n",
    "     \n",
    "\n",
    "class ChiSquareCorrFit (ChiSquare):\n",
    "    def __init__(self, dataGenerator, theoryPredictions, numTheoParam):\n",
    "        super().__init__(dataGenerator, theoryPredictions)  \n",
    "        self.numTheoParams = numTheoParam \n",
    "\n",
    "    def getCovarianceMatrix (self):\n",
    "        self.corr = np.diag(np.array([sig**2 for sig in self.dataGen.statsSpread ]))\n",
    "        self.corrInv = np.diag(np.array([1/(sig**2) for sig in self.dataGen.statsSpread]))                \n",
    "                    \n",
    "    def chi2(self, params):\n",
    "        theoparams = np.array([params[i] for i in range(self.numTheoParams)])\n",
    "        corrParams = np.array([params[i] for i in range(self.numTheoParams, self.numTheoParams + self.dataGen.numSyst )])\n",
    "        theory = np.array([self.theo(x, params) for x in xGrid])\n",
    "        residual = self.data-theory\n",
    "        for i in range (self.dataGen.numSyst) :\n",
    "            residual = residual - corrParams[i] * self.dataGen.systSpread[i]\n",
    "        chi2 = np.dot( residual, np.dot(self.corrInv, residual)) + np.dot(corrParams, corrParams)\n",
    "        return chi2\n",
    "\n",
    "\n",
    "\n",
    "class GlobalAnalysis :\n",
    "    def __init__(self,tol,  *chisqr ):\n",
    "        self.chisqrs = [chi2 for chi2 in chisqr]\n",
    "        self.tol = tol\n",
    "        self.theoXGrid = np.logspace(-3,-0.0000000001,200)\n",
    "        \n",
    "    def chi2(self, params):\n",
    "        totalchi2 = 0\n",
    "        for Chi2 in self.chisqrs : \n",
    "            totalchi2 = totalchi2 + Chi2.chi2(params)\n",
    "        return totalchi2            \n",
    "    \n",
    "    def runFit (self, bounds):\n",
    "        self.numParams = len(bounds)\n",
    "        result = differential_evolution(self.chi2, bounds)\n",
    "        self.parAtMin = result.x\n",
    "        self.funAtMin = result.fun\n",
    "        print (\"Parameter at minimum : \", result.x)\n",
    "        print (\"Chisqr at minimum : \", result.fun)  \n",
    "        print (\"Chisqr per dof : \", result.fun/(self.getNumberOfPoints()-self.numParams))\n",
    "        self.getParameterError()\n",
    "        self.plotDataTheory()\n",
    "    \n",
    "    def plotDataTheory(self) :\n",
    "        self.getTheoryError()\n",
    "        for i, Chi2 in zip(range(len(self.chisqrs)), self.chisqrs) : \n",
    "            #print(self.theoError[i])\n",
    "            newtheo = np.array([Chi2.theo(x, self.parAtMin) for x in self.theoXGrid])\n",
    "            trueTheo = np.array([Chi2.dataGen.theoryPredictions(x, Chi2.dataGen.theoryParams) for x in self.theoXGrid])\n",
    "            data = Chi2.dataGen.data           \n",
    "            plt.figure()\n",
    "            plt.errorbar(Chi2.dataGen.xGrid, data, Chi2.dataGen.totErr, linestyle=\" \", marker= \"o\", label=\"Data\" )\n",
    "            #plt.scatter (self.xGrid, self.data)\n",
    "            plt.fill_between(self.theoXGrid,newtheo+self.theoError[i], newtheo-self.theoError[i], color=\"red\", alpha=0.2)\n",
    "            plt.plot(self.theoXGrid, newtheo, color=\"red\", label=\"Fit\")\n",
    "            plt.plot(self.theoXGrid,  trueTheo, color=\"blue\", label=\"True Theory\")\n",
    "            plt.legend(fontsize=10)\n",
    "            plt.show()\n",
    "            \n",
    "        \n",
    "    def getNumberOfPoints (self):\n",
    "        self.numPoints = 0\n",
    "        for Chi2 in self.chisqrs : \n",
    "               self.numPoints = self.numPoints + Chi2.numPoints\n",
    "        return self.numPoints\n",
    "    \n",
    "    def getTheoryError(self) :\n",
    "        self.theoError = []\n",
    "        for Chi2 in self.chisqrs : \n",
    "            theoErrori = [0.5* (np.sum(np.array([ (Chi2.theo(x, self.errorParams[2*i])-Chi2.theo(x, self.errorParams[2*i+1]))**2 for i in range(self.numParams)])))**(0.5)\n",
    "                          for x in self.theoXGrid]\n",
    "            self.theoError.append(np.array(theoErrori))\n",
    "    \n",
    "    def getParameterError(self):       \n",
    "        self.hessian = getHessian(self.chi2, self.parAtMin)\n",
    "        self.eigVals, self.eigVecs = np.linalg.eig(self.hessian)\n",
    "        for eig in self.eigVals :\n",
    "                if eig < 0.0 : \n",
    "                    print (\"Warning : negative eigenvalue : \", eig)\n",
    "        self.eigVals = np.abs(self.eigVals)\n",
    "        self.transMat = np.dot(self.eigVecs, np.diag(np.array([eig**(-0.5) for eig in self.eigVals])))           \n",
    "        \n",
    "        #print(\"Hessian : \\n\", self.hessian)\n",
    "        #print(\"Eigenvalus : \\n\", self.eigVals)\n",
    "        #print(\"EigenVectors : \\n\", self.eigVecs)\n",
    "        #print(\"TransMat : \\n\", self.transMat)\n",
    "        \n",
    "        t = self.tol**(1/2)\n",
    "        self.errorParams = []\n",
    "        for i in range(self.numParams) :\n",
    "            self.errorParams.append(self.parAtMin + t*self.transMat[:,i])\n",
    "            self.errorParams.append(self.parAtMin - t*self.transMat[:,i])\n",
    "        \n",
    "        hessInv = np.linalg.inv(self.hessian)\n",
    "        err = [hessInv[i, i] for i in range(self.numParams)]\n",
    "        print(\"Parameter error using hessian method : \\n\", self.tol**(0.5)*np.sqrt(err) )\n",
    "        \n",
    "        \n",
    "            \n",
    "    \n",
    "    def chi2Replicas(self, params):\n",
    "        mytheo = [ np.array([Chi2.theo(x, params) for x in Chi2.dataGen.xGrid]) for Chi2 in self.chisqrs]\n",
    "        mychi2 = np.sum(np.array(  [ np.dot( (self.mydata[i]-mytheo[i]),\n",
    "                                            np.dot(self.chisqrs[i].corrInv, (self.mydata[i]-mytheo[i]))) for i in range(len(self.chisqrs)) ] ))\n",
    "        return mychi2\n",
    "        \n",
    "    def runReplicaFits(self, bounds, N, useTrueTheo=True) :\n",
    "        self.parAtMinRep = []\n",
    "        self.funAtMinRep = []\n",
    "        self.z = []\n",
    "        for i in range(N) : \n",
    "            if (useTrueTheo) :\n",
    "                self.mydata = [Chi2.dataGen.generateReplica() for Chi2 in self.chisqrs] \n",
    "            else : \n",
    "                self.mydata = [Chi2.dataGen.generateReplicaFromData() for Chi2 in self.chisqrs]                \n",
    "            result = differential_evolution(self.chi2Replicas, bounds)\n",
    "            self.parAtMinRep.append(result.x)\n",
    "            self.funAtMinRep.append(result.fun)\n",
    "            hess = getHessian(self.chi2Replicas, result.x)\n",
    "            eigVals, eigVecs = np.linalg.eig(hess)\n",
    "            for eig in eigVals :\n",
    "                if eig < 0.0 : \n",
    "                    print (\"Warning : negative eigenvalue : \", eig)\n",
    "            eigVals = np.abs(eigVals)\n",
    "            transMatinv = np.dot(np.diag(np.array([ eig**(1/2) for eig in eigVals])), eigVecs.T)\n",
    "            delta = np.array(result.x) - np.array(self.chisqrs[0].dataGen.theoryParams)\n",
    "            self.z.append(np.dot(transMatinv, delta))\n",
    "             \n",
    "            for Chi2 in self.chisqrs : \n",
    "                newtheo = [Chi2.theo(x, result.x) for x in Chi2.dataGen.xGrid]\n",
    "                data = self.mydata\n",
    "                '''\n",
    "                plt.scatter (Chi2.dataGen.xGrid, data)\n",
    "                plt.plot(Chi2.dataGen.xGrid, newtheo)\n",
    "                plt.show()\n",
    "                '''\n",
    "            \n",
    "        self.parAtMinRep = np.array(self.parAtMinRep)\n",
    "        self.funAtMinRep = np.array(self.funAtMinRep)   \n",
    "        self.z = np.array(self.z)\n",
    "        \n",
    "        self.meanParAtMin = np.mean(self.parAtMinRep, axis=0)\n",
    "        self.stdParAtMin = np.std(self.parAtMinRep, axis=0, ddof= 1) \n",
    "        \n",
    "        self.meanFunAtMin = np.mean(self.funAtMinRep)\n",
    "        self.stdFunAtMin = np.std(self.funAtMinRep, ddof= 1) \n",
    "        \n",
    "        self.meanZ= np.mean(self.z,  axis=0)\n",
    "        self.stdz = np.std(self.z, axis=0, ddof= 1) \n",
    "        \n",
    "        print(\"Mean parAtmin : \\n\", self.meanParAtMin )\n",
    "        print(\"std parAtmin : \\n\", self.stdParAtMin )\n",
    "        \n",
    "        print(\"Mean funAtmin : \\n\", self.meanFunAtMin )\n",
    "        print(\"std funAtmin : \\n\", self.stdFunAtMin )\n",
    "        \n",
    "        print(\"Mean z : \\n\", self.meanZ )\n",
    "        print(\"std z : \\n\", self.stdz )\n",
    "\n",
    "        for i in range(len(self.meanParAtMin )) :\n",
    "            pari = self.parAtMinRep[:, i]\n",
    "            plt.hist(pari, bins=40)\n",
    "            plt.title(\"Histogram for parameter \"+ str(i))\n",
    "            plt.show()\n",
    "            \n",
    "        for i in range(len(self.meanParAtMin )) :\n",
    "            pari = self.z[:, i]\n",
    "            plt.hist(pari, bins=40)\n",
    "            plt.title(\"Histogram for z_\"+ str(i))\n",
    "            plt.show()\n",
    "        \n",
    "        plt.hist(self.funAtMinRep, bins=40)\n",
    "        plt.title(\"Histogram for chi2\")\n",
    "        plt.show()\n",
    "  "
   ]
  },
  {
   "cell_type": "markdown",
   "metadata": {},
   "source": [
    "# Fitting  A Linear Curve\n",
    "---\n",
    "## Data"
   ]
  },
  {
   "cell_type": "code",
   "execution_count": 4,
   "metadata": {},
   "outputs": [],
   "source": [
    "def theory (x, params):\n",
    "    return params[0]*x + params[1]"
   ]
  },
  {
   "cell_type": "code",
   "execution_count": 5,
   "metadata": {},
   "outputs": [
    {
     "name": "stdout",
     "output_type": "stream",
     "text": [
      "Real statistical error :  [ 0.21036735  0.06092685  0.21325554 -0.15024228  0.01711129  0.1003806\n",
      "  0.18437038  0.16191923  0.05998552  0.12775954  0.00960255  0.11109854\n",
      " -0.05606115 -0.01265919  0.13922754  0.09651652 -0.05486639 -0.03814636\n",
      " -0.02754187 -0.00788907  0.12832611  0.06623217 -0.01113941 -0.10450303\n",
      "  0.03066105  0.04138463  0.05887536 -0.07368678  0.18258466 -0.08844517]\n",
      "Real systematic error :  [[0.17778409 0.33438887 0.23590465 0.13249954 0.22868655 0.19339398\n",
      "  0.27830559 0.21070139 0.20451077 0.32158906 0.36989921 0.18469305\n",
      "  0.28551959 0.20511863 0.0919866  0.2831999  0.3408203  0.17590866\n",
      "  0.15411754 0.3475011  0.35116331 0.27602956 0.21427616 0.1352602\n",
      "  0.23857689 0.26088972 0.15422581 0.3550653  0.27732926 0.10457965]]\n"
     ]
    },
    {
     "data": {
      "text/html": [
       "<div>\n",
       "<style scoped>\n",
       "    .dataframe tbody tr th:only-of-type {\n",
       "        vertical-align: middle;\n",
       "    }\n",
       "\n",
       "    .dataframe tbody tr th {\n",
       "        vertical-align: top;\n",
       "    }\n",
       "\n",
       "    .dataframe thead th {\n",
       "        text-align: right;\n",
       "    }\n",
       "</style>\n",
       "<table border=\"1\" class=\"dataframe\">\n",
       "  <thead>\n",
       "    <tr style=\"text-align: right;\">\n",
       "      <th></th>\n",
       "      <th>x</th>\n",
       "      <th>data</th>\n",
       "      <th>theory</th>\n",
       "      <th>stats</th>\n",
       "      <th>syst_0</th>\n",
       "    </tr>\n",
       "  </thead>\n",
       "  <tbody>\n",
       "    <tr>\n",
       "      <th>0</th>\n",
       "      <td>0.100000</td>\n",
       "      <td>2.068151</td>\n",
       "      <td>1.680000</td>\n",
       "      <td>0.1</td>\n",
       "      <td>0.222230</td>\n",
       "    </tr>\n",
       "    <tr>\n",
       "      <th>1</th>\n",
       "      <td>0.108264</td>\n",
       "      <td>2.081927</td>\n",
       "      <td>1.686611</td>\n",
       "      <td>0.1</td>\n",
       "      <td>0.417986</td>\n",
       "    </tr>\n",
       "    <tr>\n",
       "      <th>2</th>\n",
       "      <td>0.117210</td>\n",
       "      <td>2.142928</td>\n",
       "      <td>1.693768</td>\n",
       "      <td>0.1</td>\n",
       "      <td>0.294881</td>\n",
       "    </tr>\n",
       "    <tr>\n",
       "      <th>3</th>\n",
       "      <td>0.126896</td>\n",
       "      <td>1.683774</td>\n",
       "      <td>1.701517</td>\n",
       "      <td>0.1</td>\n",
       "      <td>0.165624</td>\n",
       "    </tr>\n",
       "    <tr>\n",
       "      <th>4</th>\n",
       "      <td>0.137382</td>\n",
       "      <td>1.955704</td>\n",
       "      <td>1.709906</td>\n",
       "      <td>0.1</td>\n",
       "      <td>0.285858</td>\n",
       "    </tr>\n",
       "    <tr>\n",
       "      <th>5</th>\n",
       "      <td>0.148735</td>\n",
       "      <td>2.012763</td>\n",
       "      <td>1.718988</td>\n",
       "      <td>0.1</td>\n",
       "      <td>0.241742</td>\n",
       "    </tr>\n",
       "    <tr>\n",
       "      <th>6</th>\n",
       "      <td>0.161026</td>\n",
       "      <td>2.191497</td>\n",
       "      <td>1.728821</td>\n",
       "      <td>0.1</td>\n",
       "      <td>0.347882</td>\n",
       "    </tr>\n",
       "    <tr>\n",
       "      <th>7</th>\n",
       "      <td>0.174333</td>\n",
       "      <td>2.112087</td>\n",
       "      <td>1.739466</td>\n",
       "      <td>0.1</td>\n",
       "      <td>0.263377</td>\n",
       "    </tr>\n",
       "    <tr>\n",
       "      <th>8</th>\n",
       "      <td>0.188739</td>\n",
       "      <td>2.015488</td>\n",
       "      <td>1.750991</td>\n",
       "      <td>0.1</td>\n",
       "      <td>0.255638</td>\n",
       "    </tr>\n",
       "    <tr>\n",
       "      <th>9</th>\n",
       "      <td>0.204336</td>\n",
       "      <td>2.212817</td>\n",
       "      <td>1.763469</td>\n",
       "      <td>0.1</td>\n",
       "      <td>0.401986</td>\n",
       "    </tr>\n",
       "    <tr>\n",
       "      <th>10</th>\n",
       "      <td>0.221222</td>\n",
       "      <td>2.156479</td>\n",
       "      <td>1.776977</td>\n",
       "      <td>0.1</td>\n",
       "      <td>0.462374</td>\n",
       "    </tr>\n",
       "    <tr>\n",
       "      <th>11</th>\n",
       "      <td>0.239503</td>\n",
       "      <td>2.087394</td>\n",
       "      <td>1.791602</td>\n",
       "      <td>0.1</td>\n",
       "      <td>0.230866</td>\n",
       "    </tr>\n",
       "    <tr>\n",
       "      <th>12</th>\n",
       "      <td>0.259294</td>\n",
       "      <td>2.036894</td>\n",
       "      <td>1.807436</td>\n",
       "      <td>0.1</td>\n",
       "      <td>0.356899</td>\n",
       "    </tr>\n",
       "    <tr>\n",
       "      <th>13</th>\n",
       "      <td>0.280722</td>\n",
       "      <td>2.017037</td>\n",
       "      <td>1.824577</td>\n",
       "      <td>0.1</td>\n",
       "      <td>0.256398</td>\n",
       "    </tr>\n",
       "    <tr>\n",
       "      <th>14</th>\n",
       "      <td>0.303920</td>\n",
       "      <td>2.074350</td>\n",
       "      <td>1.843136</td>\n",
       "      <td>0.1</td>\n",
       "      <td>0.114983</td>\n",
       "    </tr>\n",
       "    <tr>\n",
       "      <th>15</th>\n",
       "      <td>0.329034</td>\n",
       "      <td>2.242944</td>\n",
       "      <td>1.863228</td>\n",
       "      <td>0.1</td>\n",
       "      <td>0.354000</td>\n",
       "    </tr>\n",
       "    <tr>\n",
       "      <th>16</th>\n",
       "      <td>0.356225</td>\n",
       "      <td>2.170934</td>\n",
       "      <td>1.884980</td>\n",
       "      <td>0.1</td>\n",
       "      <td>0.426025</td>\n",
       "    </tr>\n",
       "    <tr>\n",
       "      <th>17</th>\n",
       "      <td>0.385662</td>\n",
       "      <td>2.046292</td>\n",
       "      <td>1.908530</td>\n",
       "      <td>0.1</td>\n",
       "      <td>0.219886</td>\n",
       "    </tr>\n",
       "    <tr>\n",
       "      <th>18</th>\n",
       "      <td>0.417532</td>\n",
       "      <td>2.060601</td>\n",
       "      <td>1.934026</td>\n",
       "      <td>0.1</td>\n",
       "      <td>0.192647</td>\n",
       "    </tr>\n",
       "    <tr>\n",
       "      <th>19</th>\n",
       "      <td>0.452035</td>\n",
       "      <td>2.301240</td>\n",
       "      <td>1.961628</td>\n",
       "      <td>0.1</td>\n",
       "      <td>0.434376</td>\n",
       "    </tr>\n",
       "    <tr>\n",
       "      <th>20</th>\n",
       "      <td>0.489390</td>\n",
       "      <td>2.471001</td>\n",
       "      <td>1.991512</td>\n",
       "      <td>0.1</td>\n",
       "      <td>0.438954</td>\n",
       "    </tr>\n",
       "    <tr>\n",
       "      <th>21</th>\n",
       "      <td>0.529832</td>\n",
       "      <td>2.366127</td>\n",
       "      <td>2.023865</td>\n",
       "      <td>0.1</td>\n",
       "      <td>0.345037</td>\n",
       "    </tr>\n",
       "    <tr>\n",
       "      <th>22</th>\n",
       "      <td>0.573615</td>\n",
       "      <td>2.262029</td>\n",
       "      <td>2.058892</td>\n",
       "      <td>0.1</td>\n",
       "      <td>0.267845</td>\n",
       "    </tr>\n",
       "    <tr>\n",
       "      <th>23</th>\n",
       "      <td>0.621017</td>\n",
       "      <td>2.127571</td>\n",
       "      <td>2.096814</td>\n",
       "      <td>0.1</td>\n",
       "      <td>0.169075</td>\n",
       "    </tr>\n",
       "    <tr>\n",
       "      <th>24</th>\n",
       "      <td>0.672336</td>\n",
       "      <td>2.407107</td>\n",
       "      <td>2.137869</td>\n",
       "      <td>0.1</td>\n",
       "      <td>0.298221</td>\n",
       "    </tr>\n",
       "    <tr>\n",
       "      <th>25</th>\n",
       "      <td>0.727895</td>\n",
       "      <td>2.484591</td>\n",
       "      <td>2.182316</td>\n",
       "      <td>0.1</td>\n",
       "      <td>0.326112</td>\n",
       "    </tr>\n",
       "    <tr>\n",
       "      <th>26</th>\n",
       "      <td>0.788046</td>\n",
       "      <td>2.443538</td>\n",
       "      <td>2.230437</td>\n",
       "      <td>0.1</td>\n",
       "      <td>0.192782</td>\n",
       "    </tr>\n",
       "    <tr>\n",
       "      <th>27</th>\n",
       "      <td>0.853168</td>\n",
       "      <td>2.563913</td>\n",
       "      <td>2.282534</td>\n",
       "      <td>0.1</td>\n",
       "      <td>0.443832</td>\n",
       "    </tr>\n",
       "    <tr>\n",
       "      <th>28</th>\n",
       "      <td>0.923671</td>\n",
       "      <td>2.798851</td>\n",
       "      <td>2.338937</td>\n",
       "      <td>0.1</td>\n",
       "      <td>0.346662</td>\n",
       "    </tr>\n",
       "    <tr>\n",
       "      <th>29</th>\n",
       "      <td>1.000000</td>\n",
       "      <td>2.416134</td>\n",
       "      <td>2.400000</td>\n",
       "      <td>0.1</td>\n",
       "      <td>0.130725</td>\n",
       "    </tr>\n",
       "  </tbody>\n",
       "</table>\n",
       "</div>"
      ],
      "text/plain": [
       "           x      data    theory  stats    syst_0\n",
       "0   0.100000  2.068151  1.680000    0.1  0.222230\n",
       "1   0.108264  2.081927  1.686611    0.1  0.417986\n",
       "2   0.117210  2.142928  1.693768    0.1  0.294881\n",
       "3   0.126896  1.683774  1.701517    0.1  0.165624\n",
       "4   0.137382  1.955704  1.709906    0.1  0.285858\n",
       "5   0.148735  2.012763  1.718988    0.1  0.241742\n",
       "6   0.161026  2.191497  1.728821    0.1  0.347882\n",
       "7   0.174333  2.112087  1.739466    0.1  0.263377\n",
       "8   0.188739  2.015488  1.750991    0.1  0.255638\n",
       "9   0.204336  2.212817  1.763469    0.1  0.401986\n",
       "10  0.221222  2.156479  1.776977    0.1  0.462374\n",
       "11  0.239503  2.087394  1.791602    0.1  0.230866\n",
       "12  0.259294  2.036894  1.807436    0.1  0.356899\n",
       "13  0.280722  2.017037  1.824577    0.1  0.256398\n",
       "14  0.303920  2.074350  1.843136    0.1  0.114983\n",
       "15  0.329034  2.242944  1.863228    0.1  0.354000\n",
       "16  0.356225  2.170934  1.884980    0.1  0.426025\n",
       "17  0.385662  2.046292  1.908530    0.1  0.219886\n",
       "18  0.417532  2.060601  1.934026    0.1  0.192647\n",
       "19  0.452035  2.301240  1.961628    0.1  0.434376\n",
       "20  0.489390  2.471001  1.991512    0.1  0.438954\n",
       "21  0.529832  2.366127  2.023865    0.1  0.345037\n",
       "22  0.573615  2.262029  2.058892    0.1  0.267845\n",
       "23  0.621017  2.127571  2.096814    0.1  0.169075\n",
       "24  0.672336  2.407107  2.137869    0.1  0.298221\n",
       "25  0.727895  2.484591  2.182316    0.1  0.326112\n",
       "26  0.788046  2.443538  2.230437    0.1  0.192782\n",
       "27  0.853168  2.563913  2.282534    0.1  0.443832\n",
       "28  0.923671  2.798851  2.338937    0.1  0.346662\n",
       "29  1.000000  2.416134  2.400000    0.1  0.130725"
      ]
     },
     "metadata": {},
     "output_type": "display_data"
    },
    {
     "data": {
      "image/png": "[encoded data removed]",
      "text/plain": [
       "<Figure size 432x288 with 1 Axes>"
      ]
     },
     "metadata": {
      "needs_background": "light"
     },
     "output_type": "display_data"
    }
   ],
   "source": [
    "xGrid = np.logspace(-1,-0.0000000001,30)\n",
    "theoryParams = [0.8, 1.6]\n",
    "stats = np.array([0.1 for i in range(len(xGrid))])\n",
    "#syst1= abs(np.array([0.34, 0.30, 0.42, 0.69,0.54, 0.20, 0.25, 0.12, -0.4, -0.12, 0.56, 0.53, 0.34,0.25,  0.45, 0.23, 0.31, 0.23, 0.42, -0.31])) #this is the original systematic error \n",
    "syst1 = [np.random.normal(0.3, 0.1) for i in range(len(xGrid))]\n",
    "#syst2 = [np.random.normal(0.3, 0.4) for i in range(len(xGrid))]\n",
    "systFluct = [0.8]\n",
    "dataGen = DatasetGenerator(theoryParams, theory, xGrid, stats, systFluct, syst1)"
   ]
  },
  {
   "cell_type": "markdown",
   "metadata": {},
   "source": [
    "## Fitting with correlation is NOT ignored "
   ]
  },
  {
   "cell_type": "code",
   "execution_count": 6,
   "metadata": {
    "tags": [
     "outputPrepend"
    ]
   },
   "outputs": [
    {
     "name": "stdout",
     "output_type": "stream",
     "text": [
      "Parameter at minimum :  [0.6921343  1.66781487]\n",
      "Chisqr at minimum :  25.846360419817124\n",
      "Chisqr per dof :  0.9230843007077544\n",
      "Parameter error using hessian method : \n",
      " [0.0701057  0.06505823]\n"
     ]
    },
    {
     "data": {
      "image/png": "[encoded data removed]",
      "text/plain": [
       "<Figure size 432x288 with 1 Axes>"
      ]
     },
     "metadata": {
      "needs_background": "light"
     },
     "output_type": "display_data"
    }
   ],
   "source": [
    "chi2 = ChiSquareCorr(dataGen, theory)\n",
    "globalanalysis = GlobalAnalysis(1, chi2)\n",
    "bound = [(-5,5), (-5,5)]\n",
    "globalanalysis.runFit(bound)\n",
    "#theoryParams = [0.8, 1.6]"
   ]
  },
  {
   "cell_type": "markdown",
   "metadata": {},
   "source": [
    "### Repeat the fits for N = 500 times"
   ]
  },
  {
   "cell_type": "code",
   "execution_count": 7,
   "metadata": {},
   "outputs": [
    {
     "name": "stdout",
     "output_type": "stream",
     "text": [
      "Mean parAtmin : \n",
      " [0.80000001 1.59951957]\n",
      "std parAtmin : \n",
      " [0.06678037 0.06329863]\n",
      "Mean funAtmin : \n",
      " 28.131398713058953\n",
      "std funAtmin : \n",
      " 7.390930186855002\n",
      "Mean z : \n",
      " [-0.00379965  0.00743423]\n",
      "std z : \n",
      " [0.94145486 1.01716972]\n"
     ]
    },
    {
     "data": {
      "image/png": "[encoded data removed]",
      "text/plain": [
       "<Figure size 432x288 with 1 Axes>"
      ]
     },
     "metadata": {
      "needs_background": "light"
     },
     "output_type": "display_data"
    },
    {
     "data": {
      "image/png": "[encoded data removed]",
      "text/plain": [
       "<Figure size 432x288 with 1 Axes>"
      ]
     },
     "metadata": {
      "needs_background": "light"
     },
     "output_type": "display_data"
    },
    {
     "data": {
      "image/png": "[encoded data removed]",
      "text/plain": [
       "<Figure size 432x288 with 1 Axes>"
      ]
     },
     "metadata": {
      "needs_background": "light"
     },
     "output_type": "display_data"
    },
    {
     "data": {
      "image/png": "[encoded data removed]",
      "text/plain": [
       "<Figure size 432x288 with 1 Axes>"
      ]
     },
     "metadata": {
      "needs_background": "light"
     },
     "output_type": "display_data"
    },
    {
     "data": {
      "image/png": "[encoded data removed]",
      "text/plain": [
       "<Figure size 432x288 with 1 Axes>"
      ]
     },
     "metadata": {
      "needs_background": "light"
     },
     "output_type": "display_data"
    }
   ],
   "source": [
    "globalanalysis.runReplicaFits(bound, 500)\n",
    "#theoryParams = [0.8, 1.6]"
   ]
  },
  {
   "cell_type": "markdown",
   "metadata": {},
   "source": [
    "### The replica is now generated from the data\n",
    "---"
   ]
  },
  {
   "cell_type": "code",
   "execution_count": 8,
   "metadata": {},
   "outputs": [
    {
     "name": "stdout",
     "output_type": "stream",
     "text": [
      "Mean parAtmin : \n",
      " [0.68614551 1.66984464]\n",
      "std parAtmin : \n",
      " [0.07187243 0.0642262 ]\n",
      "Mean funAtmin : \n",
      " 52.8884932440135\n",
      "std funAtmin : \n",
      " 12.155824343931519\n",
      "Mean z : \n",
      " [1.60863985 0.42108933]\n",
      "std z : \n",
      " [1.02144207 0.96883875]\n"
     ]
    },
    {
     "data": {
      "image/png": "[encoded data removed]",
      "text/plain": [
       "<Figure size 432x288 with 1 Axes>"
      ]
     },
     "metadata": {
      "needs_background": "light"
     },
     "output_type": "display_data"
    },
    {
     "data": {
      "image/png": "[encoded data removed]",
      "text/plain": [
       "<Figure size 432x288 with 1 Axes>"
      ]
     },
     "metadata": {
      "needs_background": "light"
     },
     "output_type": "display_data"
    },
    {
     "data": {
      "image/png": "[encoded data removed]",
      "text/plain": [
       "<Figure size 432x288 with 1 Axes>"
      ]
     },
     "metadata": {
      "needs_background": "light"
     },
     "output_type": "display_data"
    },
    {
     "data": {
      "image/png": "[encoded data removed]",
      "text/plain": [
       "<Figure size 432x288 with 1 Axes>"
      ]
     },
     "metadata": {
      "needs_background": "light"
     },
     "output_type": "display_data"
    },
    {
     "data": {
      "image/png": "[encoded data removed]",
      "text/plain": [
       "<Figure size 432x288 with 1 Axes>"
      ]
     },
     "metadata": {
      "needs_background": "light"
     },
     "output_type": "display_data"
    }
   ],
   "source": [
    "globalanalysis.runReplicaFits(bound, 500, False)\n",
    "#theoryParams = [0.8, 1.6]"
   ]
  },
  {
   "cell_type": "markdown",
   "metadata": {},
   "source": [
    "## Fitt with correlation ignored"
   ]
  },
  {
   "cell_type": "code",
   "execution_count": 9,
   "metadata": {},
   "outputs": [
    {
     "name": "stdout",
     "output_type": "stream",
     "text": [
      "Parameter at minimum :  [0.67490965 1.93118685]\n",
      "Chisqr at minimum :  46.88264754610931\n",
      "Chisqr per dof :  1.674380269503904\n",
      "Parameter error using hessian method : \n",
      " [0.07110844 0.03375661]\n"
     ]
    },
    {
     "data": {
      "image/png": "[encoded data removed]",
      "text/plain": [
       "<Figure size 432x288 with 1 Axes>"
      ]
     },
     "metadata": {
      "needs_background": "light"
     },
     "output_type": "display_data"
    }
   ],
   "source": [
    "chi2naive = ChiSquareCorr(dataGen, theory, False)\n",
    "globalnaive = GlobalAnalysis(1, chi2naive)\n",
    "bound = [(-5,5), (-5,5)]\n",
    "globalnaive.runFit(bound)"
   ]
  },
  {
   "cell_type": "markdown",
   "metadata": {},
   "source": [
    "### Repeat the fit for N=500 times"
   ]
  },
  {
   "cell_type": "code",
   "execution_count": 10,
   "metadata": {},
   "outputs": [
    {
     "name": "stdout",
     "output_type": "stream",
     "text": [
      "Mean parAtmin : \n",
      " [0.79679901 1.60560569]\n",
      "std parAtmin : \n",
      " [0.07667269 0.31999068]\n",
      "Mean funAtmin : \n",
      " 56.77719706915582\n",
      "std funAtmin : \n",
      " 42.34225400377326\n",
      "Mean z : \n",
      " [ 0.06672541 -0.22829777]\n",
      "std z : \n",
      " [ 2.15374487 16.54732338]\n"
     ]
    },
    {
     "data": {
      "image/png": "[encoded data removed]",
      "text/plain": [
       "<Figure size 432x288 with 1 Axes>"
      ]
     },
     "metadata": {
      "needs_background": "light"
     },
     "output_type": "display_data"
    },
    {
     "data": {
      "image/png": "[encoded data removed]",
      "text/plain": [
       "<Figure size 432x288 with 1 Axes>"
      ]
     },
     "metadata": {
      "needs_background": "light"
     },
     "output_type": "display_data"
    },
    {
     "data": {
      "image/png": "[encoded data removed]",
      "text/plain": [
       "<Figure size 432x288 with 1 Axes>"
      ]
     },
     "metadata": {
      "needs_background": "light"
     },
     "output_type": "display_data"
    },
    {
     "data": {
      "image/png": "[encoded data removed]",
      "text/plain": [
       "<Figure size 432x288 with 1 Axes>"
      ]
     },
     "metadata": {
      "needs_background": "light"
     },
     "output_type": "display_data"
    },
    {
     "data": {
      "image/png": "[encoded data removed]",
      "text/plain": [
       "<Figure size 432x288 with 1 Axes>"
      ]
     },
     "metadata": {
      "needs_background": "light"
     },
     "output_type": "display_data"
    }
   ],
   "source": [
    "globalnaive.runReplicaFits(bound, 500)\n",
    "#theoryParams = [0.8, 1.6]"
   ]
  },
  {
   "cell_type": "markdown",
   "metadata": {},
   "source": [
    "### The replica is now generated from the data"
   ]
  },
  {
   "cell_type": "code",
   "execution_count": 11,
   "metadata": {},
   "outputs": [
    {
     "name": "stdout",
     "output_type": "stream",
     "text": [
      "Mean parAtmin : \n",
      " [0.66894894 1.94990441]\n",
      "std parAtmin : \n",
      " [0.07073804 0.30391196]\n",
      "Mean funAtmin : \n",
      " 105.48694498469372\n",
      "std funAtmin : \n",
      " 72.12040887311025\n",
      "Mean z : \n",
      " [  3.34005031 -15.80237661]\n",
      "std z : \n",
      " [ 2.03834719 15.70229551]\n"
     ]
    },
    {
     "data": {
      "image/png": "[encoded data removed]",
      "text/plain": [
       "<Figure size 432x288 with 1 Axes>"
      ]
     },
     "metadata": {
      "needs_background": "light"
     },
     "output_type": "display_data"
    },
    {
     "data": {
      "image/png": "[encoded data removed]",
      "text/plain": [
       "<Figure size 432x288 with 1 Axes>"
      ]
     },
     "metadata": {
      "needs_background": "light"
     },
     "output_type": "display_data"
    },
    {
     "data": {
      "image/png": "[encoded data removed]",
      "text/plain": [
       "<Figure size 432x288 with 1 Axes>"
      ]
     },
     "metadata": {
      "needs_background": "light"
     },
     "output_type": "display_data"
    },
    {
     "data": {
      "image/png": "[encoded data removed]",
      "text/plain": [
       "<Figure size 432x288 with 1 Axes>"
      ]
     },
     "metadata": {
      "needs_background": "light"
     },
     "output_type": "display_data"
    },
    {
     "data": {
      "image/png": "[encoded data removed]",
      "text/plain": [
       "<Figure size 432x288 with 1 Axes>"
      ]
     },
     "metadata": {
      "needs_background": "light"
     },
     "output_type": "display_data"
    }
   ],
   "source": [
    "globalnaive.runReplicaFits(bound, 500, False)"
   ]
  },
  {
   "cell_type": "markdown",
   "metadata": {},
   "source": [
    "---\n",
    "---\n",
    "# Fitting Polynomial Curve\n",
    "--\n",
    "## Data"
   ]
  },
  {
   "cell_type": "code",
   "execution_count": 12,
   "metadata": {},
   "outputs": [],
   "source": [
    "def theory (x, params):\n",
    "    return params[0] + params[1]*x + params[2]* x**4 + params[3] * x**7"
   ]
  },
  {
   "cell_type": "code",
   "execution_count": 13,
   "metadata": {},
   "outputs": [
    {
     "name": "stdout",
     "output_type": "stream",
     "text": [
      "Real statistical error :  [ 0.08255906  0.17128763 -0.00304776 -0.11669161  0.05825444  0.00758596\n",
      " -0.30269351  0.00237141  0.02426189 -0.09025381  0.05753035  0.1207997\n",
      " -0.01846948  0.12242915  0.12079136  0.02680489  0.01049398 -0.24868058\n",
      " -0.16596628 -0.02144779]\n",
      "Real systematic error :  [[ 0.08625121  0.09484522  0.64685583  0.26316487  0.02485894  0.25604683\n",
      "   0.64261834  0.55003281  0.17726943  0.34981873  0.3006893   0.35086738\n",
      "   0.34617243  0.15344067  0.27869915  0.36703825  0.11615824 -0.11392922\n",
      "   0.27398025  0.13509039]]\n"
     ]
    },
    {
     "data": {
      "text/html": [
       "<div>\n",
       "<style scoped>\n",
       "    .dataframe tbody tr th:only-of-type {\n",
       "        vertical-align: middle;\n",
       "    }\n",
       "\n",
       "    .dataframe tbody tr th {\n",
       "        vertical-align: top;\n",
       "    }\n",
       "\n",
       "    .dataframe thead th {\n",
       "        text-align: right;\n",
       "    }\n",
       "</style>\n",
       "<table border=\"1\" class=\"dataframe\">\n",
       "  <thead>\n",
       "    <tr style=\"text-align: right;\">\n",
       "      <th></th>\n",
       "      <th>x</th>\n",
       "      <th>data</th>\n",
       "      <th>theory</th>\n",
       "      <th>stats</th>\n",
       "      <th>syst_0</th>\n",
       "    </tr>\n",
       "  </thead>\n",
       "  <tbody>\n",
       "    <tr>\n",
       "      <th>0</th>\n",
       "      <td>0.100000</td>\n",
       "      <td>3.129070</td>\n",
       "      <td>2.960260</td>\n",
       "      <td>0.1</td>\n",
       "      <td>0.123216</td>\n",
       "    </tr>\n",
       "    <tr>\n",
       "      <th>1</th>\n",
       "      <td>0.112884</td>\n",
       "      <td>3.247168</td>\n",
       "      <td>2.981035</td>\n",
       "      <td>0.1</td>\n",
       "      <td>0.135493</td>\n",
       "    </tr>\n",
       "    <tr>\n",
       "      <th>2</th>\n",
       "      <td>0.127427</td>\n",
       "      <td>3.648375</td>\n",
       "      <td>3.004567</td>\n",
       "      <td>0.1</td>\n",
       "      <td>0.924080</td>\n",
       "    </tr>\n",
       "    <tr>\n",
       "      <th>3</th>\n",
       "      <td>0.143845</td>\n",
       "      <td>3.177733</td>\n",
       "      <td>3.031259</td>\n",
       "      <td>0.1</td>\n",
       "      <td>0.375950</td>\n",
       "    </tr>\n",
       "    <tr>\n",
       "      <th>4</th>\n",
       "      <td>0.162378</td>\n",
       "      <td>3.144711</td>\n",
       "      <td>3.061598</td>\n",
       "      <td>0.1</td>\n",
       "      <td>0.035513</td>\n",
       "    </tr>\n",
       "    <tr>\n",
       "      <th>5</th>\n",
       "      <td>0.183298</td>\n",
       "      <td>3.359813</td>\n",
       "      <td>3.096180</td>\n",
       "      <td>0.1</td>\n",
       "      <td>0.365781</td>\n",
       "    </tr>\n",
       "    <tr>\n",
       "      <th>6</th>\n",
       "      <td>0.206914</td>\n",
       "      <td>3.475678</td>\n",
       "      <td>3.135753</td>\n",
       "      <td>0.1</td>\n",
       "      <td>0.918026</td>\n",
       "    </tr>\n",
       "    <tr>\n",
       "      <th>7</th>\n",
       "      <td>0.233572</td>\n",
       "      <td>3.733684</td>\n",
       "      <td>3.181279</td>\n",
       "      <td>0.1</td>\n",
       "      <td>0.785761</td>\n",
       "    </tr>\n",
       "    <tr>\n",
       "      <th>8</th>\n",
       "      <td>0.263665</td>\n",
       "      <td>3.435554</td>\n",
       "      <td>3.234022</td>\n",
       "      <td>0.1</td>\n",
       "      <td>0.253242</td>\n",
       "    </tr>\n",
       "    <tr>\n",
       "      <th>9</th>\n",
       "      <td>0.297635</td>\n",
       "      <td>3.555233</td>\n",
       "      <td>3.295668</td>\n",
       "      <td>0.1</td>\n",
       "      <td>0.499741</td>\n",
       "    </tr>\n",
       "    <tr>\n",
       "      <th>10</th>\n",
       "      <td>0.335982</td>\n",
       "      <td>3.726699</td>\n",
       "      <td>3.368479</td>\n",
       "      <td>0.1</td>\n",
       "      <td>0.429556</td>\n",
       "    </tr>\n",
       "    <tr>\n",
       "      <th>11</th>\n",
       "      <td>0.379269</td>\n",
       "      <td>3.927102</td>\n",
       "      <td>3.455435</td>\n",
       "      <td>0.1</td>\n",
       "      <td>0.501239</td>\n",
       "    </tr>\n",
       "    <tr>\n",
       "      <th>12</th>\n",
       "      <td>0.428133</td>\n",
       "      <td>3.887943</td>\n",
       "      <td>3.560240</td>\n",
       "      <td>0.1</td>\n",
       "      <td>0.494532</td>\n",
       "    </tr>\n",
       "    <tr>\n",
       "      <th>13</th>\n",
       "      <td>0.483293</td>\n",
       "      <td>3.962655</td>\n",
       "      <td>3.686785</td>\n",
       "      <td>0.1</td>\n",
       "      <td>0.219201</td>\n",
       "    </tr>\n",
       "    <tr>\n",
       "      <th>14</th>\n",
       "      <td>0.545559</td>\n",
       "      <td>4.236542</td>\n",
       "      <td>3.837052</td>\n",
       "      <td>0.1</td>\n",
       "      <td>0.398142</td>\n",
       "    </tr>\n",
       "    <tr>\n",
       "      <th>15</th>\n",
       "      <td>0.615848</td>\n",
       "      <td>4.398646</td>\n",
       "      <td>4.004802</td>\n",
       "      <td>0.1</td>\n",
       "      <td>0.524340</td>\n",
       "    </tr>\n",
       "    <tr>\n",
       "      <th>16</th>\n",
       "      <td>0.695193</td>\n",
       "      <td>4.285259</td>\n",
       "      <td>4.158606</td>\n",
       "      <td>0.1</td>\n",
       "      <td>0.165940</td>\n",
       "    </tr>\n",
       "    <tr>\n",
       "      <th>17</th>\n",
       "      <td>0.784760</td>\n",
       "      <td>3.835934</td>\n",
       "      <td>4.198544</td>\n",
       "      <td>0.1</td>\n",
       "      <td>-0.162756</td>\n",
       "    </tr>\n",
       "    <tr>\n",
       "      <th>18</th>\n",
       "      <td>0.885867</td>\n",
       "      <td>3.957193</td>\n",
       "      <td>3.849179</td>\n",
       "      <td>0.1</td>\n",
       "      <td>0.391400</td>\n",
       "    </tr>\n",
       "    <tr>\n",
       "      <th>19</th>\n",
       "      <td>1.000000</td>\n",
       "      <td>2.513643</td>\n",
       "      <td>2.400000</td>\n",
       "      <td>0.1</td>\n",
       "      <td>0.192986</td>\n",
       "    </tr>\n",
       "  </tbody>\n",
       "</table>\n",
       "</div>"
      ],
      "text/plain": [
       "           x      data    theory  stats    syst_0\n",
       "0   0.100000  3.129070  2.960260    0.1  0.123216\n",
       "1   0.112884  3.247168  2.981035    0.1  0.135493\n",
       "2   0.127427  3.648375  3.004567    0.1  0.924080\n",
       "3   0.143845  3.177733  3.031259    0.1  0.375950\n",
       "4   0.162378  3.144711  3.061598    0.1  0.035513\n",
       "5   0.183298  3.359813  3.096180    0.1  0.365781\n",
       "6   0.206914  3.475678  3.135753    0.1  0.918026\n",
       "7   0.233572  3.733684  3.181279    0.1  0.785761\n",
       "8   0.263665  3.435554  3.234022    0.1  0.253242\n",
       "9   0.297635  3.555233  3.295668    0.1  0.499741\n",
       "10  0.335982  3.726699  3.368479    0.1  0.429556\n",
       "11  0.379269  3.927102  3.455435    0.1  0.501239\n",
       "12  0.428133  3.887943  3.560240    0.1  0.494532\n",
       "13  0.483293  3.962655  3.686785    0.1  0.219201\n",
       "14  0.545559  4.236542  3.837052    0.1  0.398142\n",
       "15  0.615848  4.398646  4.004802    0.1  0.524340\n",
       "16  0.695193  4.285259  4.158606    0.1  0.165940\n",
       "17  0.784760  3.835934  4.198544    0.1 -0.162756\n",
       "18  0.885867  3.957193  3.849179    0.1  0.391400\n",
       "19  1.000000  2.513643  2.400000    0.1  0.192986"
      ]
     },
     "metadata": {},
     "output_type": "display_data"
    },
    {
     "data": {
      "image/png": "[encoded data removed]",
      "text/plain": [
       "<Figure size 432x288 with 1 Axes>"
      ]
     },
     "metadata": {
      "needs_background": "light"
     },
     "output_type": "display_data"
    }
   ],
   "source": [
    "xGrid = np.logspace(-1,-0.0000000001,20)\n",
    "theoryParams = [2.8, 1.6, 2.6, -4.6  ]\n",
    "stats = np.array([0.1for i in range(len(xGrid))])\n",
    "syst1 = [np.random.normal(0.5, 0.3) for i in range(len(xGrid))]\n",
    "#syst2 = [np.random.normal(0.3, 0.4) for i in range(len(xGrid))]\n",
    "systFluct = [0.7]\n",
    "dataGen = DatasetGenerator(theoryParams, theory, xGrid, stats, systFluct, syst1)"
   ]
  },
  {
   "cell_type": "markdown",
   "metadata": {},
   "source": [
    "##  Fit with correlation NOT ignored"
   ]
  },
  {
   "cell_type": "code",
   "execution_count": 14,
   "metadata": {},
   "outputs": [
    {
     "name": "stdout",
     "output_type": "stream",
     "text": [
      "Parameter at minimum :  [ 2.79973282  2.08624845  0.56560422 -3.03283244]\n",
      "Chisqr at minimum :  18.310794905145688\n",
      "Chisqr per dof :  1.1444246815716055\n",
      "Parameter error using hessian method : \n",
      " [0.07295136 0.26077585 0.76226756 0.62070813]\n"
     ]
    },
    {
     "data": {
      "image/png": "[encoded data removed]",
      "text/plain": [
       "<Figure size 432x288 with 1 Axes>"
      ]
     },
     "metadata": {
      "needs_background": "light"
     },
     "output_type": "display_data"
    }
   ],
   "source": [
    "chi2 = ChiSquareCorr(dataGen, theory)\n",
    "globalPoly = GlobalAnalysis(1, chi2)\n",
    "bound = [(-5,5), (-5,5), (-5,5), (-5,5)]\n",
    "globalPoly.runFit(bound)\n",
    "#theoryParams = [2.8, 1.6, 2.6, -4.6  ]"
   ]
  },
  {
   "cell_type": "markdown",
   "metadata": {},
   "source": [
    "### Repeat the fit for 200 times"
   ]
  },
  {
   "cell_type": "code",
   "execution_count": 15,
   "metadata": {},
   "outputs": [
    {
     "name": "stdout",
     "output_type": "stream",
     "text": [
      "Mean parAtmin : \n",
      " [ 2.79789925  1.63170039  2.50875994 -4.53322762]\n",
      "std parAtmin : \n",
      " [0.06933072 0.2304447  0.60938665 0.48096868]\n",
      "Mean funAtmin : \n",
      " 16.67736389516249\n",
      "std funAtmin : \n",
      " 5.971747477360661\n",
      "Mean z : \n",
      " [-0.08527433 -0.04399305  0.03964693  0.11696209]\n",
      "std z : \n",
      " [0.99440844 0.98834412 0.9455064  0.79096832]\n"
     ]
    },
    {
     "data": {
      "image/png": "[encoded data removed]",
      "text/plain": [
       "<Figure size 432x288 with 1 Axes>"
      ]
     },
     "metadata": {
      "needs_background": "light"
     },
     "output_type": "display_data"
    },
    {
     "data": {
      "image/png": "[encoded data removed]",
      "text/plain": [
       "<Figure size 432x288 with 1 Axes>"
      ]
     },
     "metadata": {
      "needs_background": "light"
     },
     "output_type": "display_data"
    },
    {
     "data": {
      "image/png": "[encoded data removed]",
      "text/plain": [
       "<Figure size 432x288 with 1 Axes>"
      ]
     },
     "metadata": {
      "needs_background": "light"
     },
     "output_type": "display_data"
    },
    {
     "data": {
      "image/png": "[encoded data removed]",
      "text/plain": [
       "<Figure size 432x288 with 1 Axes>"
      ]
     },
     "metadata": {
      "needs_background": "light"
     },
     "output_type": "display_data"
    },
    {
     "data": {
      "image/png": "[encoded data removed]",
      "text/plain": [
       "<Figure size 432x288 with 1 Axes>"
      ]
     },
     "metadata": {
      "needs_background": "light"
     },
     "output_type": "display_data"
    },
    {
     "data": {
      "image/png": "[encoded data removed]",
      "text/plain": [
       "<Figure size 432x288 with 1 Axes>"
      ]
     },
     "metadata": {
      "needs_background": "light"
     },
     "output_type": "display_data"
    },
    {
     "data": {
      "image/png": "[encoded data removed]",
      "text/plain": [
       "<Figure size 432x288 with 1 Axes>"
      ]
     },
     "metadata": {
      "needs_background": "light"
     },
     "output_type": "display_data"
    },
    {
     "data": {
      "image/png": "[encoded data removed]",
      "text/plain": [
       "<Figure size 432x288 with 1 Axes>"
      ]
     },
     "metadata": {
      "needs_background": "light"
     },
     "output_type": "display_data"
    },
    {
     "data": {
      "image/png": "[encoded data removed]",
      "text/plain": [
       "<Figure size 432x288 with 1 Axes>"
      ]
     },
     "metadata": {
      "needs_background": "light"
     },
     "output_type": "display_data"
    }
   ],
   "source": [
    "globalPoly.runReplicaFits(bound, 500)\n",
    "#theoryParams = [2.8, 1.6, 2.6, -4.6  ]"
   ]
  },
  {
   "cell_type": "markdown",
   "metadata": {},
   "source": [
    "## Ignore Correlation"
   ]
  },
  {
   "cell_type": "code",
   "execution_count": 16,
   "metadata": {},
   "outputs": [
    {
     "name": "stdout",
     "output_type": "stream",
     "text": [
      "Parameter at minimum :  [ 2.96119053  2.33736423 -0.67656653 -2.0660298 ]\n",
      "Chisqr at minimum :  45.90509606269006\n",
      "Chisqr per dof :  2.869068503918129\n",
      "Parameter error using hessian method : \n",
      " [0.06719741 0.26383808 0.74673298 0.60776193]\n"
     ]
    },
    {
     "data": {
      "image/png": "[encoded data removed]",
      "text/plain": [
       "<Figure size 432x288 with 1 Axes>"
      ]
     },
     "metadata": {
      "needs_background": "light"
     },
     "output_type": "display_data"
    }
   ],
   "source": [
    "chi2naive = ChiSquareCorr(dataGen, theory, False)\n",
    "globalPolyNaive = GlobalAnalysis(1, chi2naive)\n",
    "bound = [(-5,5), (-5,5), (-5,5), (-5,5)]\n",
    "globalPolyNaive.runFit(bound)\n",
    "#theoryParams = [2.8, 1.6, 2.6, -4.6  ]"
   ]
  },
  {
   "cell_type": "markdown",
   "metadata": {},
   "source": [
    "### repeat the fit for 200 times"
   ]
  },
  {
   "cell_type": "code",
   "execution_count": 17,
   "metadata": {},
   "outputs": [
    {
     "name": "stdout",
     "output_type": "stream",
     "text": [
      "Mean parAtmin : \n",
      " [ 2.76861384  1.82758575  1.78227257 -3.93100576]\n",
      "std parAtmin : \n",
      " [0.38347224 0.35290124 1.67461467 1.27458793]\n",
      "Mean funAtmin : \n",
      " 132.7710192082812\n",
      "std funAtmin : \n",
      " 167.31016040576642\n",
      "Mean z : \n",
      " [-0.17420417 -0.01417577 -0.01376621  1.09948225]\n",
      "std z : \n",
      " [15.32733621  5.6984568   1.61889377  2.13534854]\n"
     ]
    },
    {
     "data": {
      "image/png": "[encoded data removed]",
      "text/plain": [
       "<Figure size 432x288 with 1 Axes>"
      ]
     },
     "metadata": {
      "needs_background": "light"
     },
     "output_type": "display_data"
    },
    {
     "data": {
      "image/png": "[encoded data removed]",
      "text/plain": [
       "<Figure size 432x288 with 1 Axes>"
      ]
     },
     "metadata": {
      "needs_background": "light"
     },
     "output_type": "display_data"
    },
    {
     "data": {
      "image/png": "[encoded data removed]",
      "text/plain": [
       "<Figure size 432x288 with 1 Axes>"
      ]
     },
     "metadata": {
      "needs_background": "light"
     },
     "output_type": "display_data"
    },
    {
     "data": {
      "image/png": "[encoded data removed]",
      "text/plain": [
       "<Figure size 432x288 with 1 Axes>"
      ]
     },
     "metadata": {
      "needs_background": "light"
     },
     "output_type": "display_data"
    },
    {
     "data": {
      "image/png": "[encoded data removed]",
      "text/plain": [
       "<Figure size 432x288 with 1 Axes>"
      ]
     },
     "metadata": {
      "needs_background": "light"
     },
     "output_type": "display_data"
    },
    {
     "data": {
      "image/png": "[encoded data removed]",
      "text/plain": [
       "<Figure size 432x288 with 1 Axes>"
      ]
     },
     "metadata": {
      "needs_background": "light"
     },
     "output_type": "display_data"
    },
    {
     "data": {
      "image/png": "[encoded data removed]",
      "text/plain": [
       "<Figure size 432x288 with 1 Axes>"
      ]
     },
     "metadata": {
      "needs_background": "light"
     },
     "output_type": "display_data"
    },
    {
     "data": {
      "image/png": "[encoded data removed]",
      "text/plain": [
       "<Figure size 432x288 with 1 Axes>"
      ]
     },
     "metadata": {
      "needs_background": "light"
     },
     "output_type": "display_data"
    },
    {
     "data": {
      "image/png": "[encoded data removed]",
      "text/plain": [
       "<Figure size 432x288 with 1 Axes>"
      ]
     },
     "metadata": {
      "needs_background": "light"
     },
     "output_type": "display_data"
    }
   ],
   "source": [
    "globalPolyNaive.runReplicaFits(bound, 500)\n",
    "#theoryParams = [2.3, 1.6, 2.6,-4.6  ]"
   ]
  },
  {
   "cell_type": "markdown",
   "metadata": {},
   "source": [
    "---\n",
    "---\n",
    "# Fitting Systematic Fluctuation\n",
    "---"
   ]
  },
  {
   "cell_type": "code",
   "execution_count": 18,
   "metadata": {},
   "outputs": [],
   "source": [
    "def theory (x, params):\n",
    "    return params[0] + params[1]*x + params[2]* x**4 + params[3] * x**7"
   ]
  },
  {
   "cell_type": "code",
   "execution_count": 19,
   "metadata": {},
   "outputs": [
    {
     "name": "stdout",
     "output_type": "stream",
     "text": [
      "Real statistical error :  [-0.33123286  0.16172825 -0.03093882 -0.00920092  0.02502854 -0.03701489\n",
      " -0.19787998 -0.22797349  0.02759279  0.06908365  0.1007098   0.04640764\n",
      " -0.04653798  0.12093567  0.03108881 -0.0038805   0.03454314 -0.02779126\n",
      "  0.05392067  0.05388247 -0.09126953  0.10506924  0.02944085 -0.01866371\n",
      " -0.04375123 -0.05487088  0.01434249  0.07251349  0.06784909  0.08569273]\n",
      "Real systematic error :  [[ 2.27323773e-01  2.99550307e-01  1.40987343e-02  1.36314940e-01\n",
      "   3.72787061e-01  4.76588793e-01  4.14027717e-01  5.93602115e-01\n",
      "   3.63307295e-01  2.45394026e-01  4.43708537e-01  4.30810080e-01\n",
      "   2.76963276e-01  2.07620188e-01 -1.55563636e-02  5.93276317e-01\n",
      "   2.55160362e-01  2.96391969e-01  5.77819445e-01  4.43153359e-01\n",
      "  -3.70862488e-01  4.57368674e-01  1.56950849e-01  2.33773852e-01\n",
      "   1.17416127e-01  3.10988244e-01  1.74819585e-01  2.01583417e-01\n",
      "   4.48082940e-01  2.94198806e-01]\n",
      " [-1.10486195e-01 -4.05444527e-01  6.05859768e-01  5.62299846e-01\n",
      "  -2.12721507e-01  1.26711005e-01  2.87265505e-01 -1.08757018e-01\n",
      "   3.20096086e-04  4.35430784e-01  3.11979530e-01  6.83796662e-02\n",
      "  -2.35800123e-02 -4.12003738e-01 -1.52691695e-01  4.03795308e-02\n",
      "   5.61425198e-01  9.64212231e-02  5.00169021e-01  1.66737757e-01\n",
      "   1.47174973e-01  2.94935842e-01  6.99348542e-01  5.27472245e-01\n",
      "   1.11147393e-01  2.18884416e-01  2.06779438e-01  1.77023802e-01\n",
      "  -3.90807766e-02  3.82194858e-01]]\n"
     ]
    },
    {
     "data": {
      "text/html": [
       "<div>\n",
       "<style scoped>\n",
       "    .dataframe tbody tr th:only-of-type {\n",
       "        vertical-align: middle;\n",
       "    }\n",
       "\n",
       "    .dataframe tbody tr th {\n",
       "        vertical-align: top;\n",
       "    }\n",
       "\n",
       "    .dataframe thead th {\n",
       "        text-align: right;\n",
       "    }\n",
       "</style>\n",
       "<table border=\"1\" class=\"dataframe\">\n",
       "  <thead>\n",
       "    <tr style=\"text-align: right;\">\n",
       "      <th></th>\n",
       "      <th>x</th>\n",
       "      <th>data</th>\n",
       "      <th>theory</th>\n",
       "      <th>stats</th>\n",
       "      <th>syst_0</th>\n",
       "      <th>syst_1</th>\n",
       "    </tr>\n",
       "  </thead>\n",
       "  <tbody>\n",
       "    <tr>\n",
       "      <th>0</th>\n",
       "      <td>0.100000</td>\n",
       "      <td>2.745864</td>\n",
       "      <td>2.960260</td>\n",
       "      <td>0.1</td>\n",
       "      <td>0.324748</td>\n",
       "      <td>-0.184144</td>\n",
       "    </tr>\n",
       "    <tr>\n",
       "      <th>1</th>\n",
       "      <td>0.108264</td>\n",
       "      <td>3.029412</td>\n",
       "      <td>2.973578</td>\n",
       "      <td>0.1</td>\n",
       "      <td>0.427929</td>\n",
       "      <td>-0.675741</td>\n",
       "    </tr>\n",
       "    <tr>\n",
       "      <th>2</th>\n",
       "      <td>0.117210</td>\n",
       "      <td>3.577045</td>\n",
       "      <td>2.988026</td>\n",
       "      <td>0.1</td>\n",
       "      <td>0.020141</td>\n",
       "      <td>1.009766</td>\n",
       "    </tr>\n",
       "    <tr>\n",
       "      <th>3</th>\n",
       "      <td>0.126896</td>\n",
       "      <td>3.693119</td>\n",
       "      <td>3.003705</td>\n",
       "      <td>0.1</td>\n",
       "      <td>0.194736</td>\n",
       "      <td>0.937166</td>\n",
       "    </tr>\n",
       "    <tr>\n",
       "      <th>4</th>\n",
       "      <td>0.137382</td>\n",
       "      <td>3.205828</td>\n",
       "      <td>3.020734</td>\n",
       "      <td>0.1</td>\n",
       "      <td>0.532553</td>\n",
       "      <td>-0.354536</td>\n",
       "    </tr>\n",
       "    <tr>\n",
       "      <th>5</th>\n",
       "      <td>0.148735</td>\n",
       "      <td>3.605526</td>\n",
       "      <td>3.039241</td>\n",
       "      <td>0.1</td>\n",
       "      <td>0.680841</td>\n",
       "      <td>0.211185</td>\n",
       "    </tr>\n",
       "    <tr>\n",
       "      <th>6</th>\n",
       "      <td>0.161026</td>\n",
       "      <td>3.562790</td>\n",
       "      <td>3.059377</td>\n",
       "      <td>0.1</td>\n",
       "      <td>0.591468</td>\n",
       "      <td>0.478776</td>\n",
       "    </tr>\n",
       "    <tr>\n",
       "      <th>7</th>\n",
       "      <td>0.174333</td>\n",
       "      <td>3.338183</td>\n",
       "      <td>3.081312</td>\n",
       "      <td>0.1</td>\n",
       "      <td>0.848003</td>\n",
       "      <td>-0.181262</td>\n",
       "    </tr>\n",
       "    <tr>\n",
       "      <th>8</th>\n",
       "      <td>0.188739</td>\n",
       "      <td>3.496463</td>\n",
       "      <td>3.105243</td>\n",
       "      <td>0.1</td>\n",
       "      <td>0.519010</td>\n",
       "      <td>0.000533</td>\n",
       "    </tr>\n",
       "    <tr>\n",
       "      <th>9</th>\n",
       "      <td>0.204336</td>\n",
       "      <td>3.881310</td>\n",
       "      <td>3.131402</td>\n",
       "      <td>0.1</td>\n",
       "      <td>0.350563</td>\n",
       "      <td>0.725718</td>\n",
       "    </tr>\n",
       "    <tr>\n",
       "      <th>10</th>\n",
       "      <td>0.221222</td>\n",
       "      <td>4.016460</td>\n",
       "      <td>3.160062</td>\n",
       "      <td>0.1</td>\n",
       "      <td>0.633869</td>\n",
       "      <td>0.519966</td>\n",
       "    </tr>\n",
       "    <tr>\n",
       "      <th>11</th>\n",
       "      <td>0.239503</td>\n",
       "      <td>3.737149</td>\n",
       "      <td>3.191551</td>\n",
       "      <td>0.1</td>\n",
       "      <td>0.615443</td>\n",
       "      <td>0.113966</td>\n",
       "    </tr>\n",
       "    <tr>\n",
       "      <th>12</th>\n",
       "      <td>0.259294</td>\n",
       "      <td>3.433107</td>\n",
       "      <td>3.226261</td>\n",
       "      <td>0.1</td>\n",
       "      <td>0.395662</td>\n",
       "      <td>-0.039300</td>\n",
       "    </tr>\n",
       "    <tr>\n",
       "      <th>13</th>\n",
       "      <td>0.280722</td>\n",
       "      <td>3.181221</td>\n",
       "      <td>3.264669</td>\n",
       "      <td>0.1</td>\n",
       "      <td>0.296600</td>\n",
       "      <td>-0.686673</td>\n",
       "    </tr>\n",
       "    <tr>\n",
       "      <th>14</th>\n",
       "      <td>0.303920</td>\n",
       "      <td>3.170193</td>\n",
       "      <td>3.307352</td>\n",
       "      <td>0.1</td>\n",
       "      <td>-0.022223</td>\n",
       "      <td>-0.254486</td>\n",
       "    </tr>\n",
       "    <tr>\n",
       "      <th>15</th>\n",
       "      <td>0.329034</td>\n",
       "      <td>3.984784</td>\n",
       "      <td>3.355009</td>\n",
       "      <td>0.1</td>\n",
       "      <td>0.847538</td>\n",
       "      <td>0.067299</td>\n",
       "    </tr>\n",
       "    <tr>\n",
       "      <th>16</th>\n",
       "      <td>0.356225</td>\n",
       "      <td>4.259607</td>\n",
       "      <td>3.408478</td>\n",
       "      <td>0.1</td>\n",
       "      <td>0.364515</td>\n",
       "      <td>0.935709</td>\n",
       "    </tr>\n",
       "    <tr>\n",
       "      <th>17</th>\n",
       "      <td>0.385662</td>\n",
       "      <td>3.833762</td>\n",
       "      <td>3.468740</td>\n",
       "      <td>0.1</td>\n",
       "      <td>0.423417</td>\n",
       "      <td>0.160702</td>\n",
       "    </tr>\n",
       "    <tr>\n",
       "      <th>18</th>\n",
       "      <td>0.417532</td>\n",
       "      <td>4.668803</td>\n",
       "      <td>3.536894</td>\n",
       "      <td>0.1</td>\n",
       "      <td>0.825456</td>\n",
       "      <td>0.833615</td>\n",
       "    </tr>\n",
       "    <tr>\n",
       "      <th>19</th>\n",
       "      <td>0.452035</td>\n",
       "      <td>4.277848</td>\n",
       "      <td>3.614074</td>\n",
       "      <td>0.1</td>\n",
       "      <td>0.633076</td>\n",
       "      <td>0.277896</td>\n",
       "    </tr>\n",
       "    <tr>\n",
       "      <th>20</th>\n",
       "      <td>0.489390</td>\n",
       "      <td>3.386280</td>\n",
       "      <td>3.701237</td>\n",
       "      <td>0.1</td>\n",
       "      <td>-0.529804</td>\n",
       "      <td>0.245292</td>\n",
       "    </tr>\n",
       "    <tr>\n",
       "      <th>21</th>\n",
       "      <td>0.529832</td>\n",
       "      <td>4.656080</td>\n",
       "      <td>3.798706</td>\n",
       "      <td>0.1</td>\n",
       "      <td>0.653384</td>\n",
       "      <td>0.491560</td>\n",
       "    </tr>\n",
       "    <tr>\n",
       "      <th>22</th>\n",
       "      <td>0.573615</td>\n",
       "      <td>4.791016</td>\n",
       "      <td>3.905275</td>\n",
       "      <td>0.1</td>\n",
       "      <td>0.224215</td>\n",
       "      <td>1.165581</td>\n",
       "    </tr>\n",
       "    <tr>\n",
       "      <th>23</th>\n",
       "      <td>0.621017</td>\n",
       "      <td>4.759058</td>\n",
       "      <td>4.016475</td>\n",
       "      <td>0.1</td>\n",
       "      <td>0.333963</td>\n",
       "      <td>0.879120</td>\n",
       "    </tr>\n",
       "    <tr>\n",
       "      <th>24</th>\n",
       "      <td>0.672336</td>\n",
       "      <td>4.306155</td>\n",
       "      <td>4.121343</td>\n",
       "      <td>0.1</td>\n",
       "      <td>0.167737</td>\n",
       "      <td>0.185246</td>\n",
       "    </tr>\n",
       "    <tr>\n",
       "      <th>25</th>\n",
       "      <td>0.727895</td>\n",
       "      <td>4.671498</td>\n",
       "      <td>4.196496</td>\n",
       "      <td>0.1</td>\n",
       "      <td>0.444269</td>\n",
       "      <td>0.364807</td>\n",
       "    </tr>\n",
       "    <tr>\n",
       "      <th>26</th>\n",
       "      <td>0.788046</td>\n",
       "      <td>4.591337</td>\n",
       "      <td>4.195395</td>\n",
       "      <td>0.1</td>\n",
       "      <td>0.249742</td>\n",
       "      <td>0.344632</td>\n",
       "    </tr>\n",
       "    <tr>\n",
       "      <th>27</th>\n",
       "      <td>0.853168</td>\n",
       "      <td>4.480193</td>\n",
       "      <td>4.029072</td>\n",
       "      <td>0.1</td>\n",
       "      <td>0.287976</td>\n",
       "      <td>0.295040</td>\n",
       "    </tr>\n",
       "    <tr>\n",
       "      <th>28</th>\n",
       "      <td>0.923671</td>\n",
       "      <td>4.008622</td>\n",
       "      <td>3.531771</td>\n",
       "      <td>0.1</td>\n",
       "      <td>0.640118</td>\n",
       "      <td>-0.065135</td>\n",
       "    </tr>\n",
       "    <tr>\n",
       "      <th>29</th>\n",
       "      <td>1.000000</td>\n",
       "      <td>3.162086</td>\n",
       "      <td>2.400000</td>\n",
       "      <td>0.1</td>\n",
       "      <td>0.420284</td>\n",
       "      <td>0.636991</td>\n",
       "    </tr>\n",
       "  </tbody>\n",
       "</table>\n",
       "</div>"
      ],
      "text/plain": [
       "           x      data    theory  stats    syst_0    syst_1\n",
       "0   0.100000  2.745864  2.960260    0.1  0.324748 -0.184144\n",
       "1   0.108264  3.029412  2.973578    0.1  0.427929 -0.675741\n",
       "2   0.117210  3.577045  2.988026    0.1  0.020141  1.009766\n",
       "3   0.126896  3.693119  3.003705    0.1  0.194736  0.937166\n",
       "4   0.137382  3.205828  3.020734    0.1  0.532553 -0.354536\n",
       "5   0.148735  3.605526  3.039241    0.1  0.680841  0.211185\n",
       "6   0.161026  3.562790  3.059377    0.1  0.591468  0.478776\n",
       "7   0.174333  3.338183  3.081312    0.1  0.848003 -0.181262\n",
       "8   0.188739  3.496463  3.105243    0.1  0.519010  0.000533\n",
       "9   0.204336  3.881310  3.131402    0.1  0.350563  0.725718\n",
       "10  0.221222  4.016460  3.160062    0.1  0.633869  0.519966\n",
       "11  0.239503  3.737149  3.191551    0.1  0.615443  0.113966\n",
       "12  0.259294  3.433107  3.226261    0.1  0.395662 -0.039300\n",
       "13  0.280722  3.181221  3.264669    0.1  0.296600 -0.686673\n",
       "14  0.303920  3.170193  3.307352    0.1 -0.022223 -0.254486\n",
       "15  0.329034  3.984784  3.355009    0.1  0.847538  0.067299\n",
       "16  0.356225  4.259607  3.408478    0.1  0.364515  0.935709\n",
       "17  0.385662  3.833762  3.468740    0.1  0.423417  0.160702\n",
       "18  0.417532  4.668803  3.536894    0.1  0.825456  0.833615\n",
       "19  0.452035  4.277848  3.614074    0.1  0.633076  0.277896\n",
       "20  0.489390  3.386280  3.701237    0.1 -0.529804  0.245292\n",
       "21  0.529832  4.656080  3.798706    0.1  0.653384  0.491560\n",
       "22  0.573615  4.791016  3.905275    0.1  0.224215  1.165581\n",
       "23  0.621017  4.759058  4.016475    0.1  0.333963  0.879120\n",
       "24  0.672336  4.306155  4.121343    0.1  0.167737  0.185246\n",
       "25  0.727895  4.671498  4.196496    0.1  0.444269  0.364807\n",
       "26  0.788046  4.591337  4.195395    0.1  0.249742  0.344632\n",
       "27  0.853168  4.480193  4.029072    0.1  0.287976  0.295040\n",
       "28  0.923671  4.008622  3.531771    0.1  0.640118 -0.065135\n",
       "29  1.000000  3.162086  2.400000    0.1  0.420284  0.636991"
      ]
     },
     "metadata": {},
     "output_type": "display_data"
    },
    {
     "data": {
      "image/png": "[encoded data removed]",
      "text/plain": [
       "<Figure size 432x288 with 1 Axes>"
      ]
     },
     "metadata": {
      "needs_background": "light"
     },
     "output_type": "display_data"
    }
   ],
   "source": [
    "xGrid = np.logspace(-1,-0.0000000001,30)\n",
    "theoryParams = [2.8, 1.6, 2.6, -4.6  ]\n",
    "stats = np.array([0.1 for i in range(len(xGrid))])\n",
    "syst1 = [np.random.normal(0.5, 0.3) for i in range(len(xGrid))]\n",
    "syst2 = [np.random.normal(0.3, 0.4) for i in range(len(xGrid))]\n",
    "systFluct = [0.7, 0.6]\n",
    "dataGen = DatasetGenerator(theoryParams, theory, xGrid, stats, systFluct, syst1, syst2)"
   ]
  },
  {
   "cell_type": "markdown",
   "metadata": {},
   "source": [
    "## Fit without fitting systematic fluctuations"
   ]
  },
  {
   "cell_type": "code",
   "execution_count": 20,
   "metadata": {},
   "outputs": [
    {
     "name": "stdout",
     "output_type": "stream",
     "text": [
      "Parameter at minimum :  [ 2.70655098  1.91489656  1.89995314 -4.01056391]\n",
      "Chisqr at minimum :  28.692424108196057\n",
      "Chisqr per dof :  1.103554773392156\n",
      "Parameter error using hessian method : \n",
      " [0.06303525 0.22202026 0.62587274 0.52478665]\n"
     ]
    },
    {
     "data": {
      "image/png": "[encoded data removed]",
      "text/plain": [
       "<Figure size 432x288 with 1 Axes>"
      ]
     },
     "metadata": {
      "needs_background": "light"
     },
     "output_type": "display_data"
    }
   ],
   "source": [
    "chi2 = ChiSquareCorr(dataGen, theory)\n",
    "globalAnalysis= GlobalAnalysis(1, chi2)\n",
    "bound = [(-5,5), (-5,5), (-5,5), (-5,5)]\n",
    "globalAnalysis.runFit(bound)\n",
    "#globalAnalysis.getParameterError()\n",
    "#theoryParams =[2.8, 1.6, 2.6, -4.6  ]"
   ]
  },
  {
   "cell_type": "markdown",
   "metadata": {},
   "source": [
    "## Fit without fitting systematic fluctuations"
   ]
  },
  {
   "cell_type": "code",
   "execution_count": 21,
   "metadata": {},
   "outputs": [
    {
     "name": "stdout",
     "output_type": "stream",
     "text": [
      "Parameter at minimum :  [ 2.70655244  1.91489857  1.89995818 -4.01057379  0.72722139  0.58702545]\n",
      "Chisqr at minimum :  28.692424117367953\n",
      "Chisqr per dof :  1.195517671556998\n",
      "Parameter error using hessian method : \n",
      " [0.06303525 0.22202026 0.62587274 0.52478665 0.0660939  0.04083972]\n"
     ]
    },
    {
     "data": {
      "image/png": "[encoded data removed]",
      "text/plain": [
       "<Figure size 432x288 with 1 Axes>"
      ]
     },
     "metadata": {
      "needs_background": "light"
     },
     "output_type": "display_data"
    },
    {
     "name": "stdout",
     "output_type": "stream",
     "text": [
      "Parameter error using hessian method : \n",
      " [0.06303525 0.22202026 0.62587274 0.52478665 0.0660939  0.04083972]\n"
     ]
    }
   ],
   "source": [
    "chi2corrfit =ChiSquareCorrFit(dataGen, theory, 4)\n",
    "globalAnalysisCorrFit= GlobalAnalysis(1, chi2corrfit)\n",
    "bound = [(-5,5), (-5,5), (-5,5), (-5,5), (-3,3), (-3,3)]\n",
    "globalAnalysisCorrFit.runFit(bound)\n",
    "globalAnalysisCorrFit.getParameterError()\n",
    "#theoryParams =[2.8, 1.6, 2.6, -4.6, 0.7, 0.6  ]"
   ]
  },
  {
   "cell_type": "markdown",
   "metadata": {},
   "source": [
    "---\n",
    "# Theory Imperfection and Correlated Error Fitting\n",
    "---\n"
   ]
  },
  {
   "cell_type": "code",
   "execution_count": 22,
   "metadata": {},
   "outputs": [],
   "source": [
    "def theory (x, params):\n",
    "    return params[0] + params[1]*x + params[2]* x**4 + params[3] * x**7\n",
    "def theoryFit (x, params) : \n",
    "    return params[0] + params[1]*x + params[2]* x**2 + params[3] * x**3"
   ]
  },
  {
   "cell_type": "code",
   "execution_count": 23,
   "metadata": {},
   "outputs": [
    {
     "name": "stdout",
     "output_type": "stream",
     "text": [
      "Real statistical error :  [-2.50308825e-04 -1.54973291e-01  7.74031158e-03 -1.19002782e-01\n",
      "  5.98334793e-02  1.34183966e-01  1.76929620e-02  8.88649558e-02\n",
      " -1.46902053e-01  1.35593086e-01 -4.52928905e-02  7.05012047e-02\n",
      "  2.08610737e-01 -9.44139746e-02  1.03351714e-02  7.61474920e-02\n",
      " -6.89654854e-02  1.41613067e-02  2.04684523e-02 -1.09308693e-04]\n",
      "Real systematic error :  [[0.25968418 0.26508403 0.44993178 0.29639179 0.59592808 0.52277619\n",
      "  0.38606708 0.40129034 0.44474836 0.66300064 0.33291463 0.41672192\n",
      "  0.12784521 0.08956773 0.45309938 0.11384356 0.39851932 0.296103\n",
      "  0.52860989 0.19268862]]\n"
     ]
    },
    {
     "data": {
      "text/html": [
       "<div>\n",
       "<style scoped>\n",
       "    .dataframe tbody tr th:only-of-type {\n",
       "        vertical-align: middle;\n",
       "    }\n",
       "\n",
       "    .dataframe tbody tr th {\n",
       "        vertical-align: top;\n",
       "    }\n",
       "\n",
       "    .dataframe thead th {\n",
       "        text-align: right;\n",
       "    }\n",
       "</style>\n",
       "<table border=\"1\" class=\"dataframe\">\n",
       "  <thead>\n",
       "    <tr style=\"text-align: right;\">\n",
       "      <th></th>\n",
       "      <th>x</th>\n",
       "      <th>data</th>\n",
       "      <th>theory</th>\n",
       "      <th>stats</th>\n",
       "      <th>syst_0</th>\n",
       "    </tr>\n",
       "  </thead>\n",
       "  <tbody>\n",
       "    <tr>\n",
       "      <th>0</th>\n",
       "      <td>0.100000</td>\n",
       "      <td>3.219693</td>\n",
       "      <td>2.960260</td>\n",
       "      <td>0.1</td>\n",
       "      <td>0.370977</td>\n",
       "    </tr>\n",
       "    <tr>\n",
       "      <th>1</th>\n",
       "      <td>0.112884</td>\n",
       "      <td>3.091146</td>\n",
       "      <td>2.981035</td>\n",
       "      <td>0.1</td>\n",
       "      <td>0.378691</td>\n",
       "    </tr>\n",
       "    <tr>\n",
       "      <th>2</th>\n",
       "      <td>0.127427</td>\n",
       "      <td>3.462239</td>\n",
       "      <td>3.004567</td>\n",
       "      <td>0.1</td>\n",
       "      <td>0.642760</td>\n",
       "    </tr>\n",
       "    <tr>\n",
       "      <th>3</th>\n",
       "      <td>0.143845</td>\n",
       "      <td>3.208648</td>\n",
       "      <td>3.031259</td>\n",
       "      <td>0.1</td>\n",
       "      <td>0.423417</td>\n",
       "    </tr>\n",
       "    <tr>\n",
       "      <th>4</th>\n",
       "      <td>0.162378</td>\n",
       "      <td>3.717360</td>\n",
       "      <td>3.061598</td>\n",
       "      <td>0.1</td>\n",
       "      <td>0.851326</td>\n",
       "    </tr>\n",
       "    <tr>\n",
       "      <th>5</th>\n",
       "      <td>0.183298</td>\n",
       "      <td>3.753140</td>\n",
       "      <td>3.096180</td>\n",
       "      <td>0.1</td>\n",
       "      <td>0.746823</td>\n",
       "    </tr>\n",
       "    <tr>\n",
       "      <th>6</th>\n",
       "      <td>0.206914</td>\n",
       "      <td>3.539513</td>\n",
       "      <td>3.135753</td>\n",
       "      <td>0.1</td>\n",
       "      <td>0.551524</td>\n",
       "    </tr>\n",
       "    <tr>\n",
       "      <th>7</th>\n",
       "      <td>0.233572</td>\n",
       "      <td>3.671435</td>\n",
       "      <td>3.181279</td>\n",
       "      <td>0.1</td>\n",
       "      <td>0.573272</td>\n",
       "    </tr>\n",
       "    <tr>\n",
       "      <th>8</th>\n",
       "      <td>0.263665</td>\n",
       "      <td>3.531869</td>\n",
       "      <td>3.234022</td>\n",
       "      <td>0.1</td>\n",
       "      <td>0.635355</td>\n",
       "    </tr>\n",
       "    <tr>\n",
       "      <th>9</th>\n",
       "      <td>0.297635</td>\n",
       "      <td>4.094262</td>\n",
       "      <td>3.295668</td>\n",
       "      <td>0.1</td>\n",
       "      <td>0.947144</td>\n",
       "    </tr>\n",
       "    <tr>\n",
       "      <th>10</th>\n",
       "      <td>0.335982</td>\n",
       "      <td>3.656101</td>\n",
       "      <td>3.368479</td>\n",
       "      <td>0.1</td>\n",
       "      <td>0.475592</td>\n",
       "    </tr>\n",
       "    <tr>\n",
       "      <th>11</th>\n",
       "      <td>0.379269</td>\n",
       "      <td>3.942658</td>\n",
       "      <td>3.455435</td>\n",
       "      <td>0.1</td>\n",
       "      <td>0.595317</td>\n",
       "    </tr>\n",
       "    <tr>\n",
       "      <th>12</th>\n",
       "      <td>0.428133</td>\n",
       "      <td>3.896696</td>\n",
       "      <td>3.560240</td>\n",
       "      <td>0.1</td>\n",
       "      <td>0.182636</td>\n",
       "    </tr>\n",
       "    <tr>\n",
       "      <th>13</th>\n",
       "      <td>0.483293</td>\n",
       "      <td>3.681939</td>\n",
       "      <td>3.686785</td>\n",
       "      <td>0.1</td>\n",
       "      <td>0.127954</td>\n",
       "    </tr>\n",
       "    <tr>\n",
       "      <th>14</th>\n",
       "      <td>0.545559</td>\n",
       "      <td>4.300486</td>\n",
       "      <td>3.837052</td>\n",
       "      <td>0.1</td>\n",
       "      <td>0.647285</td>\n",
       "    </tr>\n",
       "    <tr>\n",
       "      <th>15</th>\n",
       "      <td>0.615848</td>\n",
       "      <td>4.194794</td>\n",
       "      <td>4.004802</td>\n",
       "      <td>0.1</td>\n",
       "      <td>0.162634</td>\n",
       "    </tr>\n",
       "    <tr>\n",
       "      <th>16</th>\n",
       "      <td>0.695193</td>\n",
       "      <td>4.488160</td>\n",
       "      <td>4.158606</td>\n",
       "      <td>0.1</td>\n",
       "      <td>0.569313</td>\n",
       "    </tr>\n",
       "    <tr>\n",
       "      <th>17</th>\n",
       "      <td>0.784760</td>\n",
       "      <td>4.508809</td>\n",
       "      <td>4.198544</td>\n",
       "      <td>0.1</td>\n",
       "      <td>0.423004</td>\n",
       "    </tr>\n",
       "    <tr>\n",
       "      <th>18</th>\n",
       "      <td>0.885867</td>\n",
       "      <td>4.398258</td>\n",
       "      <td>3.849179</td>\n",
       "      <td>0.1</td>\n",
       "      <td>0.755157</td>\n",
       "    </tr>\n",
       "    <tr>\n",
       "      <th>19</th>\n",
       "      <td>1.000000</td>\n",
       "      <td>2.592579</td>\n",
       "      <td>2.400000</td>\n",
       "      <td>0.1</td>\n",
       "      <td>0.275269</td>\n",
       "    </tr>\n",
       "  </tbody>\n",
       "</table>\n",
       "</div>"
      ],
      "text/plain": [
       "           x      data    theory  stats    syst_0\n",
       "0   0.100000  3.219693  2.960260    0.1  0.370977\n",
       "1   0.112884  3.091146  2.981035    0.1  0.378691\n",
       "2   0.127427  3.462239  3.004567    0.1  0.642760\n",
       "3   0.143845  3.208648  3.031259    0.1  0.423417\n",
       "4   0.162378  3.717360  3.061598    0.1  0.851326\n",
       "5   0.183298  3.753140  3.096180    0.1  0.746823\n",
       "6   0.206914  3.539513  3.135753    0.1  0.551524\n",
       "7   0.233572  3.671435  3.181279    0.1  0.573272\n",
       "8   0.263665  3.531869  3.234022    0.1  0.635355\n",
       "9   0.297635  4.094262  3.295668    0.1  0.947144\n",
       "10  0.335982  3.656101  3.368479    0.1  0.475592\n",
       "11  0.379269  3.942658  3.455435    0.1  0.595317\n",
       "12  0.428133  3.896696  3.560240    0.1  0.182636\n",
       "13  0.483293  3.681939  3.686785    0.1  0.127954\n",
       "14  0.545559  4.300486  3.837052    0.1  0.647285\n",
       "15  0.615848  4.194794  4.004802    0.1  0.162634\n",
       "16  0.695193  4.488160  4.158606    0.1  0.569313\n",
       "17  0.784760  4.508809  4.198544    0.1  0.423004\n",
       "18  0.885867  4.398258  3.849179    0.1  0.755157\n",
       "19  1.000000  2.592579  2.400000    0.1  0.275269"
      ]
     },
     "metadata": {},
     "output_type": "display_data"
    },
    {
     "data": {
      "image/png": "[encoded data removed]",
      "text/plain": [
       "<Figure size 432x288 with 1 Axes>"
      ]
     },
     "metadata": {
      "needs_background": "light"
     },
     "output_type": "display_data"
    }
   ],
   "source": [
    "xGrid = np.logspace(-1,-0.0000000001,20)\n",
    "theoryParams = [2.8, 1.6, 2.6, -4.6  ]\n",
    "stats = np.array([0.1 for i in range(len(xGrid))])\n",
    "syst1 = [np.random.normal(0.5, 0.3) for i in range(len(xGrid))]\n",
    "#syst2 = [np.random.normal(0.3, 0.4) for i in range(len(xGrid))]\n",
    "systFluct = [0.7]\n",
    "dataGen = DatasetGenerator(theoryParams, theory, xGrid, stats, systFluct, syst1)"
   ]
  },
  {
   "cell_type": "code",
   "execution_count": 24,
   "metadata": {},
   "outputs": [
    {
     "name": "stdout",
     "output_type": "stream",
     "text": [
      "Parameter at minimum :  [ 2.66840959  1.9500079   1.74122328 -3.98352843]\n",
      "Chisqr at minimum :  15.932753394245834\n",
      "Chisqr per dof :  0.9957970871403646\n",
      "Parameter error using hessian method : \n",
      " [0.1008428  0.27145652 0.76021652 0.61867027]\n"
     ]
    },
    {
     "data": {
      "image/png": "[encoded data removed]",
      "text/plain": [
       "<Figure size 432x288 with 1 Axes>"
      ]
     },
     "metadata": {
      "needs_background": "light"
     },
     "output_type": "display_data"
    }
   ],
   "source": [
    "chi2 = ChiSquareCorr(dataGen, theory)\n",
    "globalanalysis = GlobalAnalysis(1, chi2)\n",
    "bound = [(-5,5), (-5,5), (-5,5), (-10,10)]\n",
    "globalanalysis.runFit(bound)\n",
    "#theoryParams = [2.8, 1.6, 2.6, -4.6  ]"
   ]
  },
  {
   "cell_type": "code",
   "execution_count": 25,
   "metadata": {},
   "outputs": [
    {
     "name": "stdout",
     "output_type": "stream",
     "text": [
      "Parameter at minimum :  [  3.03632921  -3.84843443  17.54129796 -14.319034  ]\n",
      "Chisqr at minimum :  28.617809655773744\n",
      "Chisqr per dof :  1.788613103485859\n",
      "Parameter error using hessian method : \n",
      " [0.14144705 1.06450987 2.32378431 1.45111596]\n"
     ]
    },
    {
     "data": {
      "image/png": "[encoded data removed]",
      "text/plain": [
       "<Figure size 432x288 with 1 Axes>"
      ]
     },
     "metadata": {
      "needs_background": "light"
     },
     "output_type": "display_data"
    }
   ],
   "source": [
    "chi2 = ChiSquareCorr(dataGen, theoryFit)\n",
    "globalanalysis = GlobalAnalysis(1, chi2)\n",
    "bound = [(-20,20), (-20,20), (-100,100), (-20,20)]\n",
    "globalanalysis.runFit(bound)\n",
    "#theoryParams = [2.8, 1.6, 2.6, -4.6  ]"
   ]
  },
  {
   "cell_type": "code",
   "execution_count": 26,
   "metadata": {},
   "outputs": [
    {
     "name": "stdout",
     "output_type": "stream",
     "text": [
      "Parameter at minimum :  [  3.0363599   -3.84856174  17.541288   -14.31890175   1.06843719]\n",
      "Chisqr at minimum :  28.61781006333591\n",
      "Chisqr per dof :  1.907854004222394\n",
      "Parameter error using hessian method : \n",
      " [0.14144705 1.06450987 2.3237843  1.45111595 0.10474444]\n"
     ]
    },
    {
     "data": {
      "image/png": "[encoded data removed]",
      "text/plain": [
       "<Figure size 432x288 with 1 Axes>"
      ]
     },
     "metadata": {
      "needs_background": "light"
     },
     "output_type": "display_data"
    }
   ],
   "source": [
    "chi2corrfit =ChiSquareCorrFit(dataGen, theoryFit, 4)\n",
    "globalAnalysisCorrFit= GlobalAnalysis(1, chi2corrfit)\n",
    "bound = [(-5,5), (-5,5), (-20,20), (-20,20), (-3,3)]\n",
    "globalAnalysisCorrFit.runFit(bound)\n",
    "#theoryParams =[2.8, 1.6, 2.6, -4.6, 0.7, 0.6  ]"
   ]
  },
  {
   "cell_type": "markdown",
   "metadata": {},
   "source": [
    "---\n",
    "# Global Analysis\n",
    "---"
   ]
  },
  {
   "cell_type": "code",
   "execution_count": 27,
   "metadata": {},
   "outputs": [],
   "source": [
    "def theory1 (x, params):\n",
    "    return (params[0] + params[1] + params[2]+ params[3]) * x**3\n",
    "def theory2 (x, params) : \n",
    "    return (params[0]*params[1])*x + (params[2]*params[3])* x**2 \n",
    "def theory3 (x, params) : \n",
    "    return (params[0]**2+params[1]**2+params[2]**2+params[3]**2) * x**2\n",
    "\n",
    "theoryParams = [2.8, 1.6, 2.6, -4.6  ]"
   ]
  },
  {
   "cell_type": "code",
   "execution_count": 28,
   "metadata": {},
   "outputs": [
    {
     "name": "stdout",
     "output_type": "stream",
     "text": [
      "Real statistical error :  [ 0.12257251 -0.03022398 -0.43235581  0.58575509  0.14733445  0.01415493\n",
      " -0.48669529 -0.29077454 -0.34741238 -0.21279694  0.13200392 -0.24497546\n",
      " -0.27162744  0.36460485 -0.00965969 -0.13569902  0.06835169 -0.40253463\n",
      "  0.01773498 -0.33471594 -0.13086975  0.34965809  0.10195094 -0.18438354\n",
      " -0.26322973  0.42983808  0.09901217 -0.12536498 -0.00879512 -0.11402403\n",
      " -0.50570763  0.71754846 -0.03542754  0.06697332 -0.15317017 -0.05125439\n",
      " -0.2968122  -0.29587708 -0.08922225 -0.07428028]\n",
      "Real systematic error :  [[ 0.18148365 -0.34194797  0.05071646 -0.23640712 -0.35460701 -0.16511358\n",
      "  -0.29986608 -0.32773095 -0.04884392 -0.11809172 -0.23229995 -0.27773256\n",
      "  -0.10818357 -0.20268267 -0.0545988   0.05133326  0.07901124  0.09161281\n",
      "  -0.46149297 -0.22917588 -0.02315144 -0.15293179 -0.44761419 -0.26361638\n",
      "  -0.12742468  0.12777084 -0.31925085 -0.01565719  0.03070276 -0.24135409\n",
      "  -0.3492075  -0.27475718 -0.45853514  0.01419786  0.04811722 -0.19661901\n",
      "  -0.05345754 -0.06930774  0.1051787  -0.37591478]\n",
      " [-0.42159633  0.02089977  0.63900853  0.1948999   0.01129173 -0.09777587\n",
      "   0.18013573  0.32192345 -0.17544131 -0.29889943  0.405506    0.3742671\n",
      "   0.13391462  0.40543543 -0.11309695 -0.30827828  0.13208951  0.36253206\n",
      "  -0.1511701   0.25892506  0.70635623  0.73613421  0.18587593  0.10046766\n",
      "   0.35004009  0.19955632 -0.55075319 -0.24707513 -0.26217859  0.40063628\n",
      "   0.24800632 -0.46104649 -0.10303092  0.35675785 -0.21942222  0.26567625\n",
      "   0.08772724  0.01196918 -0.09700603 -0.12003835]]\n"
     ]
    },
    {
     "data": {
      "text/html": [
       "<div>\n",
       "<style scoped>\n",
       "    .dataframe tbody tr th:only-of-type {\n",
       "        vertical-align: middle;\n",
       "    }\n",
       "\n",
       "    .dataframe tbody tr th {\n",
       "        vertical-align: top;\n",
       "    }\n",
       "\n",
       "    .dataframe thead th {\n",
       "        text-align: right;\n",
       "    }\n",
       "</style>\n",
       "<table border=\"1\" class=\"dataframe\">\n",
       "  <thead>\n",
       "    <tr style=\"text-align: right;\">\n",
       "      <th></th>\n",
       "      <th>x</th>\n",
       "      <th>data</th>\n",
       "      <th>theory</th>\n",
       "      <th>stats</th>\n",
       "      <th>syst_0</th>\n",
       "      <th>syst_1</th>\n",
       "    </tr>\n",
       "  </thead>\n",
       "  <tbody>\n",
       "    <tr>\n",
       "      <th>0</th>\n",
       "      <td>0.100000</td>\n",
       "      <td>-0.115140</td>\n",
       "      <td>0.002400</td>\n",
       "      <td>0.111989</td>\n",
       "      <td>0.259262</td>\n",
       "      <td>-0.383269</td>\n",
       "    </tr>\n",
       "    <tr>\n",
       "      <th>1</th>\n",
       "      <td>0.104219</td>\n",
       "      <td>-0.348555</td>\n",
       "      <td>0.002717</td>\n",
       "      <td>0.235873</td>\n",
       "      <td>-0.488497</td>\n",
       "      <td>0.019000</td>\n",
       "    </tr>\n",
       "    <tr>\n",
       "      <th>2</th>\n",
       "      <td>0.108617</td>\n",
       "      <td>0.260445</td>\n",
       "      <td>0.003075</td>\n",
       "      <td>0.370574</td>\n",
       "      <td>0.072452</td>\n",
       "      <td>0.580917</td>\n",
       "    </tr>\n",
       "    <tr>\n",
       "      <th>3</th>\n",
       "      <td>0.113200</td>\n",
       "      <td>0.547729</td>\n",
       "      <td>0.003481</td>\n",
       "      <td>0.298934</td>\n",
       "      <td>-0.337724</td>\n",
       "      <td>0.177182</td>\n",
       "    </tr>\n",
       "    <tr>\n",
       "      <th>4</th>\n",
       "      <td>0.117976</td>\n",
       "      <td>-0.192040</td>\n",
       "      <td>0.003941</td>\n",
       "      <td>0.155204</td>\n",
       "      <td>-0.506581</td>\n",
       "      <td>0.010265</td>\n",
       "    </tr>\n",
       "    <tr>\n",
       "      <th>5</th>\n",
       "      <td>0.122954</td>\n",
       "      <td>-0.244273</td>\n",
       "      <td>0.004461</td>\n",
       "      <td>0.336543</td>\n",
       "      <td>-0.235877</td>\n",
       "      <td>-0.088887</td>\n",
       "    </tr>\n",
       "    <tr>\n",
       "      <th>6</th>\n",
       "      <td>0.128142</td>\n",
       "      <td>-0.601376</td>\n",
       "      <td>0.005050</td>\n",
       "      <td>0.277951</td>\n",
       "      <td>-0.428380</td>\n",
       "      <td>0.163760</td>\n",
       "    </tr>\n",
       "    <tr>\n",
       "      <th>7</th>\n",
       "      <td>0.133549</td>\n",
       "      <td>-0.290865</td>\n",
       "      <td>0.005717</td>\n",
       "      <td>0.300724</td>\n",
       "      <td>-0.468187</td>\n",
       "      <td>0.292658</td>\n",
       "    </tr>\n",
       "    <tr>\n",
       "      <th>8</th>\n",
       "      <td>0.139184</td>\n",
       "      <td>-0.565226</td>\n",
       "      <td>0.006471</td>\n",
       "      <td>0.473183</td>\n",
       "      <td>-0.069777</td>\n",
       "      <td>-0.159492</td>\n",
       "    </tr>\n",
       "    <tr>\n",
       "      <th>9</th>\n",
       "      <td>0.145057</td>\n",
       "      <td>-0.622463</td>\n",
       "      <td>0.007325</td>\n",
       "      <td>0.286206</td>\n",
       "      <td>-0.168702</td>\n",
       "      <td>-0.271727</td>\n",
       "    </tr>\n",
       "    <tr>\n",
       "      <th>10</th>\n",
       "      <td>0.151178</td>\n",
       "      <td>0.313502</td>\n",
       "      <td>0.008292</td>\n",
       "      <td>0.205650</td>\n",
       "      <td>-0.331857</td>\n",
       "      <td>0.368642</td>\n",
       "    </tr>\n",
       "    <tr>\n",
       "      <th>11</th>\n",
       "      <td>0.157556</td>\n",
       "      <td>-0.139054</td>\n",
       "      <td>0.009387</td>\n",
       "      <td>0.310250</td>\n",
       "      <td>-0.396761</td>\n",
       "      <td>0.340243</td>\n",
       "    </tr>\n",
       "    <tr>\n",
       "      <th>12</th>\n",
       "      <td>0.164204</td>\n",
       "      <td>-0.235271</td>\n",
       "      <td>0.010626</td>\n",
       "      <td>0.188698</td>\n",
       "      <td>-0.154548</td>\n",
       "      <td>0.121741</td>\n",
       "    </tr>\n",
       "    <tr>\n",
       "      <th>13</th>\n",
       "      <td>0.171133</td>\n",
       "      <td>0.579386</td>\n",
       "      <td>0.012028</td>\n",
       "      <td>0.420188</td>\n",
       "      <td>-0.289547</td>\n",
       "      <td>0.368578</td>\n",
       "    </tr>\n",
       "    <tr>\n",
       "      <th>14</th>\n",
       "      <td>0.178354</td>\n",
       "      <td>-0.163739</td>\n",
       "      <td>0.013616</td>\n",
       "      <td>0.265312</td>\n",
       "      <td>-0.077998</td>\n",
       "      <td>-0.102815</td>\n",
       "    </tr>\n",
       "    <tr>\n",
       "      <th>15</th>\n",
       "      <td>0.185879</td>\n",
       "      <td>-0.377230</td>\n",
       "      <td>0.015414</td>\n",
       "      <td>0.330611</td>\n",
       "      <td>0.073333</td>\n",
       "      <td>-0.280253</td>\n",
       "    </tr>\n",
       "    <tr>\n",
       "      <th>16</th>\n",
       "      <td>0.193722</td>\n",
       "      <td>0.296901</td>\n",
       "      <td>0.017448</td>\n",
       "      <td>0.205694</td>\n",
       "      <td>0.112873</td>\n",
       "      <td>0.120081</td>\n",
       "    </tr>\n",
       "    <tr>\n",
       "      <th>17</th>\n",
       "      <td>0.201896</td>\n",
       "      <td>0.071362</td>\n",
       "      <td>0.019751</td>\n",
       "      <td>0.203529</td>\n",
       "      <td>0.130875</td>\n",
       "      <td>0.329575</td>\n",
       "    </tr>\n",
       "    <tr>\n",
       "      <th>18</th>\n",
       "      <td>0.210415</td>\n",
       "      <td>-0.572570</td>\n",
       "      <td>0.022358</td>\n",
       "      <td>0.226799</td>\n",
       "      <td>-0.659276</td>\n",
       "      <td>-0.137427</td>\n",
       "    </tr>\n",
       "    <tr>\n",
       "      <th>19</th>\n",
       "      <td>0.219293</td>\n",
       "      <td>-0.279657</td>\n",
       "      <td>0.025310</td>\n",
       "      <td>0.388235</td>\n",
       "      <td>-0.327394</td>\n",
       "      <td>0.235386</td>\n",
       "    </tr>\n",
       "    <tr>\n",
       "      <th>20</th>\n",
       "      <td>0.228546</td>\n",
       "      <td>0.580986</td>\n",
       "      <td>0.028651</td>\n",
       "      <td>0.198707</td>\n",
       "      <td>-0.033073</td>\n",
       "      <td>0.642142</td>\n",
       "    </tr>\n",
       "    <tr>\n",
       "      <th>21</th>\n",
       "      <td>0.238190</td>\n",
       "      <td>0.965293</td>\n",
       "      <td>0.032433</td>\n",
       "      <td>0.433539</td>\n",
       "      <td>-0.218474</td>\n",
       "      <td>0.669213</td>\n",
       "    </tr>\n",
       "    <tr>\n",
       "      <th>22</th>\n",
       "      <td>0.248240</td>\n",
       "      <td>-0.123074</td>\n",
       "      <td>0.036714</td>\n",
       "      <td>0.184683</td>\n",
       "      <td>-0.639449</td>\n",
       "      <td>0.168978</td>\n",
       "    </tr>\n",
       "    <tr>\n",
       "      <th>23</th>\n",
       "      <td>0.258714</td>\n",
       "      <td>-0.305973</td>\n",
       "      <td>0.041560</td>\n",
       "      <td>0.112482</td>\n",
       "      <td>-0.376595</td>\n",
       "      <td>0.091334</td>\n",
       "    </tr>\n",
       "    <tr>\n",
       "      <th>24</th>\n",
       "      <td>0.269631</td>\n",
       "      <td>0.006431</td>\n",
       "      <td>0.047046</td>\n",
       "      <td>0.205759</td>\n",
       "      <td>-0.182035</td>\n",
       "      <td>0.318218</td>\n",
       "    </tr>\n",
       "    <tr>\n",
       "      <th>25</th>\n",
       "      <td>0.281008</td>\n",
       "      <td>0.810421</td>\n",
       "      <td>0.053256</td>\n",
       "      <td>0.289501</td>\n",
       "      <td>0.182530</td>\n",
       "      <td>0.181415</td>\n",
       "    </tr>\n",
       "    <tr>\n",
       "      <th>26</th>\n",
       "      <td>0.292864</td>\n",
       "      <td>-0.710707</td>\n",
       "      <td>0.060285</td>\n",
       "      <td>0.384185</td>\n",
       "      <td>-0.456073</td>\n",
       "      <td>-0.500685</td>\n",
       "    </tr>\n",
       "    <tr>\n",
       "      <th>27</th>\n",
       "      <td>0.305222</td>\n",
       "      <td>-0.319854</td>\n",
       "      <td>0.068243</td>\n",
       "      <td>0.387756</td>\n",
       "      <td>-0.022367</td>\n",
       "      <td>-0.224614</td>\n",
       "    </tr>\n",
       "    <tr>\n",
       "      <th>28</th>\n",
       "      <td>0.318100</td>\n",
       "      <td>-0.163020</td>\n",
       "      <td>0.077251</td>\n",
       "      <td>0.123219</td>\n",
       "      <td>0.043861</td>\n",
       "      <td>-0.238344</td>\n",
       "    </tr>\n",
       "    <tr>\n",
       "      <th>29</th>\n",
       "      <td>0.331522</td>\n",
       "      <td>0.132706</td>\n",
       "      <td>0.087448</td>\n",
       "      <td>0.256170</td>\n",
       "      <td>-0.344792</td>\n",
       "      <td>0.364215</td>\n",
       "    </tr>\n",
       "    <tr>\n",
       "      <th>30</th>\n",
       "      <td>0.345511</td>\n",
       "      <td>-0.507918</td>\n",
       "      <td>0.098991</td>\n",
       "      <td>0.334907</td>\n",
       "      <td>-0.498868</td>\n",
       "      <td>0.225460</td>\n",
       "    </tr>\n",
       "    <tr>\n",
       "      <th>31</th>\n",
       "      <td>0.360089</td>\n",
       "      <td>0.093803</td>\n",
       "      <td>0.112058</td>\n",
       "      <td>0.216518</td>\n",
       "      <td>-0.392510</td>\n",
       "      <td>-0.419133</td>\n",
       "    </tr>\n",
       "    <tr>\n",
       "      <th>32</th>\n",
       "      <td>0.375283</td>\n",
       "      <td>-0.470144</td>\n",
       "      <td>0.126849</td>\n",
       "      <td>0.246815</td>\n",
       "      <td>-0.655050</td>\n",
       "      <td>-0.093664</td>\n",
       "    </tr>\n",
       "    <tr>\n",
       "      <th>33</th>\n",
       "      <td>0.391118</td>\n",
       "      <td>0.581522</td>\n",
       "      <td>0.143593</td>\n",
       "      <td>0.205691</td>\n",
       "      <td>0.020283</td>\n",
       "      <td>0.324325</td>\n",
       "    </tr>\n",
       "    <tr>\n",
       "      <th>34</th>\n",
       "      <td>0.407621</td>\n",
       "      <td>-0.161928</td>\n",
       "      <td>0.162548</td>\n",
       "      <td>0.399331</td>\n",
       "      <td>0.068739</td>\n",
       "      <td>-0.199475</td>\n",
       "    </tr>\n",
       "    <tr>\n",
       "      <th>35</th>\n",
       "      <td>0.424820</td>\n",
       "      <td>0.201807</td>\n",
       "      <td>0.184004</td>\n",
       "      <td>0.458341</td>\n",
       "      <td>-0.280884</td>\n",
       "      <td>0.241524</td>\n",
       "    </tr>\n",
       "    <tr>\n",
       "      <th>36</th>\n",
       "      <td>0.442745</td>\n",
       "      <td>-0.054250</td>\n",
       "      <td>0.208292</td>\n",
       "      <td>0.328963</td>\n",
       "      <td>-0.076368</td>\n",
       "      <td>0.079752</td>\n",
       "    </tr>\n",
       "    <tr>\n",
       "      <th>37</th>\n",
       "      <td>0.461427</td>\n",
       "      <td>-0.117429</td>\n",
       "      <td>0.235786</td>\n",
       "      <td>0.348431</td>\n",
       "      <td>-0.099011</td>\n",
       "      <td>0.010881</td>\n",
       "    </tr>\n",
       "    <tr>\n",
       "      <th>38</th>\n",
       "      <td>0.480896</td>\n",
       "      <td>0.185861</td>\n",
       "      <td>0.266910</td>\n",
       "      <td>0.232490</td>\n",
       "      <td>0.150255</td>\n",
       "      <td>-0.088187</td>\n",
       "    </tr>\n",
       "    <tr>\n",
       "      <th>39</th>\n",
       "      <td>0.501187</td>\n",
       "      <td>-0.268091</td>\n",
       "      <td>0.302142</td>\n",
       "      <td>0.421723</td>\n",
       "      <td>-0.537021</td>\n",
       "      <td>-0.109126</td>\n",
       "    </tr>\n",
       "  </tbody>\n",
       "</table>\n",
       "</div>"
      ],
      "text/plain": [
       "           x      data    theory     stats    syst_0    syst_1\n",
       "0   0.100000 -0.115140  0.002400  0.111989  0.259262 -0.383269\n",
       "1   0.104219 -0.348555  0.002717  0.235873 -0.488497  0.019000\n",
       "2   0.108617  0.260445  0.003075  0.370574  0.072452  0.580917\n",
       "3   0.113200  0.547729  0.003481  0.298934 -0.337724  0.177182\n",
       "4   0.117976 -0.192040  0.003941  0.155204 -0.506581  0.010265\n",
       "5   0.122954 -0.244273  0.004461  0.336543 -0.235877 -0.088887\n",
       "6   0.128142 -0.601376  0.005050  0.277951 -0.428380  0.163760\n",
       "7   0.133549 -0.290865  0.005717  0.300724 -0.468187  0.292658\n",
       "8   0.139184 -0.565226  0.006471  0.473183 -0.069777 -0.159492\n",
       "9   0.145057 -0.622463  0.007325  0.286206 -0.168702 -0.271727\n",
       "10  0.151178  0.313502  0.008292  0.205650 -0.331857  0.368642\n",
       "11  0.157556 -0.139054  0.009387  0.310250 -0.396761  0.340243\n",
       "12  0.164204 -0.235271  0.010626  0.188698 -0.154548  0.121741\n",
       "13  0.171133  0.579386  0.012028  0.420188 -0.289547  0.368578\n",
       "14  0.178354 -0.163739  0.013616  0.265312 -0.077998 -0.102815\n",
       "15  0.185879 -0.377230  0.015414  0.330611  0.073333 -0.280253\n",
       "16  0.193722  0.296901  0.017448  0.205694  0.112873  0.120081\n",
       "17  0.201896  0.071362  0.019751  0.203529  0.130875  0.329575\n",
       "18  0.210415 -0.572570  0.022358  0.226799 -0.659276 -0.137427\n",
       "19  0.219293 -0.279657  0.025310  0.388235 -0.327394  0.235386\n",
       "20  0.228546  0.580986  0.028651  0.198707 -0.033073  0.642142\n",
       "21  0.238190  0.965293  0.032433  0.433539 -0.218474  0.669213\n",
       "22  0.248240 -0.123074  0.036714  0.184683 -0.639449  0.168978\n",
       "23  0.258714 -0.305973  0.041560  0.112482 -0.376595  0.091334\n",
       "24  0.269631  0.006431  0.047046  0.205759 -0.182035  0.318218\n",
       "25  0.281008  0.810421  0.053256  0.289501  0.182530  0.181415\n",
       "26  0.292864 -0.710707  0.060285  0.384185 -0.456073 -0.500685\n",
       "27  0.305222 -0.319854  0.068243  0.387756 -0.022367 -0.224614\n",
       "28  0.318100 -0.163020  0.077251  0.123219  0.043861 -0.238344\n",
       "29  0.331522  0.132706  0.087448  0.256170 -0.344792  0.364215\n",
       "30  0.345511 -0.507918  0.098991  0.334907 -0.498868  0.225460\n",
       "31  0.360089  0.093803  0.112058  0.216518 -0.392510 -0.419133\n",
       "32  0.375283 -0.470144  0.126849  0.246815 -0.655050 -0.093664\n",
       "33  0.391118  0.581522  0.143593  0.205691  0.020283  0.324325\n",
       "34  0.407621 -0.161928  0.162548  0.399331  0.068739 -0.199475\n",
       "35  0.424820  0.201807  0.184004  0.458341 -0.280884  0.241524\n",
       "36  0.442745 -0.054250  0.208292  0.328963 -0.076368  0.079752\n",
       "37  0.461427 -0.117429  0.235786  0.348431 -0.099011  0.010881\n",
       "38  0.480896  0.185861  0.266910  0.232490  0.150255 -0.088187\n",
       "39  0.501187 -0.268091  0.302142  0.421723 -0.537021 -0.109126"
      ]
     },
     "metadata": {},
     "output_type": "display_data"
    },
    {
     "data": {
      "image/png": "[encoded data removed]",
      "text/plain": [
       "<Figure size 432x288 with 1 Axes>"
      ]
     },
     "metadata": {
      "needs_background": "light"
     },
     "output_type": "display_data"
    }
   ],
   "source": [
    "xGrid_1 =  np.logspace(-1,-0.3,40)\n",
    "stats_1 = np.array([np.random.normal(0.3, 0.1) for i in range(len(xGrid_1))])\n",
    "syst1_1 = [np.random.normal(-0.2, 0.25) for i in range(len(xGrid_1))]\n",
    "syst2_1 = [np.random.normal(0.1, 0.3) for i in range(len(xGrid_1))]\n",
    "systFluct_1 = [0.7, 1.1]\n",
    "dataGen_1 = DatasetGenerator(theoryParams, theory1, xGrid_1, stats_1, systFluct_1, syst1_1, syst2_1)"
   ]
  },
  {
   "cell_type": "code",
   "execution_count": 29,
   "metadata": {},
   "outputs": [
    {
     "name": "stdout",
     "output_type": "stream",
     "text": [
      "Real statistical error :  [ 0.00309219 -0.57469029  0.02896964  0.10340179  0.53482563  0.11549077\n",
      "  0.52998741 -0.08601182 -0.06413824  0.04812791  0.25884498  0.02723119\n",
      "  0.08324067 -0.10144696  0.04366351 -0.02726929  0.08859501  0.07458661\n",
      "  0.27672446  0.08550978]\n",
      "Real systematic error :  [[-0.02143098 -0.05967868  0.04781546  0.0569412  -0.0131612  -0.02874345\n",
      "   0.01234549 -0.1080431  -0.03880651  0.04806466 -0.02928407  0.03340326\n",
      "  -0.09174474 -0.08296996  0.01541489 -0.10159846  0.00366568 -0.01736537\n",
      "  -0.14796625 -0.02675771]\n",
      " [ 0.13745669 -0.07661811  0.31218081  0.01092924 -0.21973934  0.22040366\n",
      "   0.13996732  0.31781735  0.36357478  0.15293895  0.25626597  0.01764343\n",
      "   0.31101246  0.07882328  0.1418286   0.09264418 -0.11446269 -0.14788731\n",
      "   0.35610066  0.11176747]\n",
      " [ 0.32311064  0.07775788  0.2423957   0.03197735  0.11146976  0.12614645\n",
      "   0.34798762  0.29498509  0.29461884  0.03940248  0.28667326  0.32137462\n",
      "   0.20907171  0.33964516  0.44819748  0.15933722  0.21948188  0.39168583\n",
      "   0.37717579  0.01322042]]\n"
     ]
    },
    {
     "data": {
      "text/html": [
       "<div>\n",
       "<style scoped>\n",
       "    .dataframe tbody tr th:only-of-type {\n",
       "        vertical-align: middle;\n",
       "    }\n",
       "\n",
       "    .dataframe tbody tr th {\n",
       "        vertical-align: top;\n",
       "    }\n",
       "\n",
       "    .dataframe thead th {\n",
       "        text-align: right;\n",
       "    }\n",
       "</style>\n",
       "<table border=\"1\" class=\"dataframe\">\n",
       "  <thead>\n",
       "    <tr style=\"text-align: right;\">\n",
       "      <th></th>\n",
       "      <th>x</th>\n",
       "      <th>data</th>\n",
       "      <th>theory</th>\n",
       "      <th>stats</th>\n",
       "      <th>syst_0</th>\n",
       "      <th>syst_1</th>\n",
       "      <th>syst_2</th>\n",
       "    </tr>\n",
       "  </thead>\n",
       "  <tbody>\n",
       "    <tr>\n",
       "      <th>0</th>\n",
       "      <td>0.316228</td>\n",
       "      <td>0.662929</td>\n",
       "      <td>0.220700</td>\n",
       "      <td>-0.008452</td>\n",
       "      <td>-0.042862</td>\n",
       "      <td>0.171821</td>\n",
       "      <td>0.269259</td>\n",
       "    </tr>\n",
       "    <tr>\n",
       "      <th>1</th>\n",
       "      <td>0.335982</td>\n",
       "      <td>-0.478121</td>\n",
       "      <td>0.155108</td>\n",
       "      <td>0.256306</td>\n",
       "      <td>-0.119357</td>\n",
       "      <td>-0.095773</td>\n",
       "      <td>0.064798</td>\n",
       "    </tr>\n",
       "    <tr>\n",
       "      <th>2</th>\n",
       "      <td>0.356970</td>\n",
       "      <td>0.706554</td>\n",
       "      <td>0.075192</td>\n",
       "      <td>0.206044</td>\n",
       "      <td>0.095631</td>\n",
       "      <td>0.390226</td>\n",
       "      <td>0.201996</td>\n",
       "    </tr>\n",
       "    <tr>\n",
       "      <th>3</th>\n",
       "      <td>0.379269</td>\n",
       "      <td>0.181989</td>\n",
       "      <td>-0.021261</td>\n",
       "      <td>0.148049</td>\n",
       "      <td>0.113882</td>\n",
       "      <td>0.013662</td>\n",
       "      <td>0.026648</td>\n",
       "    </tr>\n",
       "    <tr>\n",
       "      <th>4</th>\n",
       "      <td>0.402961</td>\n",
       "      <td>0.276624</td>\n",
       "      <td>-0.136771</td>\n",
       "      <td>0.242499</td>\n",
       "      <td>-0.026322</td>\n",
       "      <td>-0.274674</td>\n",
       "      <td>0.092891</td>\n",
       "    </tr>\n",
       "    <tr>\n",
       "      <th>5</th>\n",
       "      <td>0.428133</td>\n",
       "      <td>0.159089</td>\n",
       "      <td>-0.274208</td>\n",
       "      <td>0.424615</td>\n",
       "      <td>-0.057487</td>\n",
       "      <td>0.275505</td>\n",
       "      <td>0.105122</td>\n",
       "    </tr>\n",
       "    <tr>\n",
       "      <th>6</th>\n",
       "      <td>0.454878</td>\n",
       "      <td>0.593451</td>\n",
       "      <td>-0.436837</td>\n",
       "      <td>0.298336</td>\n",
       "      <td>0.024691</td>\n",
       "      <td>0.174959</td>\n",
       "      <td>0.289990</td>\n",
       "    </tr>\n",
       "    <tr>\n",
       "      <th>7</th>\n",
       "      <td>0.483293</td>\n",
       "      <td>-0.209623</td>\n",
       "      <td>-0.628370</td>\n",
       "      <td>0.175598</td>\n",
       "      <td>-0.216086</td>\n",
       "      <td>0.397272</td>\n",
       "      <td>0.245821</td>\n",
       "    </tr>\n",
       "    <tr>\n",
       "      <th>8</th>\n",
       "      <td>0.513483</td>\n",
       "      <td>-0.297780</td>\n",
       "      <td>-0.853029</td>\n",
       "      <td>0.177603</td>\n",
       "      <td>-0.077613</td>\n",
       "      <td>0.454468</td>\n",
       "      <td>0.245516</td>\n",
       "    </tr>\n",
       "    <tr>\n",
       "      <th>9</th>\n",
       "      <td>0.545559</td>\n",
       "      <td>-0.827076</td>\n",
       "      <td>-1.115610</td>\n",
       "      <td>0.097106</td>\n",
       "      <td>0.096129</td>\n",
       "      <td>0.191174</td>\n",
       "      <td>0.032835</td>\n",
       "    </tr>\n",
       "    <tr>\n",
       "      <th>10</th>\n",
       "      <td>0.579639</td>\n",
       "      <td>-0.649058</td>\n",
       "      <td>-1.421558</td>\n",
       "      <td>0.346232</td>\n",
       "      <td>-0.058568</td>\n",
       "      <td>0.320332</td>\n",
       "      <td>0.238894</td>\n",
       "    </tr>\n",
       "    <tr>\n",
       "      <th>11</th>\n",
       "      <td>0.615848</td>\n",
       "      <td>-1.377405</td>\n",
       "      <td>-1.777057</td>\n",
       "      <td>0.018399</td>\n",
       "      <td>0.066807</td>\n",
       "      <td>0.022054</td>\n",
       "      <td>0.267812</td>\n",
       "    </tr>\n",
       "    <tr>\n",
       "      <th>12</th>\n",
       "      <td>0.654319</td>\n",
       "      <td>-1.677545</td>\n",
       "      <td>-2.189125</td>\n",
       "      <td>0.118116</td>\n",
       "      <td>-0.183489</td>\n",
       "      <td>0.388766</td>\n",
       "      <td>0.174226</td>\n",
       "    </tr>\n",
       "    <tr>\n",
       "      <th>13</th>\n",
       "      <td>0.695193</td>\n",
       "      <td>-2.431669</td>\n",
       "      <td>-2.665721</td>\n",
       "      <td>0.363902</td>\n",
       "      <td>-0.165940</td>\n",
       "      <td>0.098529</td>\n",
       "      <td>0.283038</td>\n",
       "    </tr>\n",
       "    <tr>\n",
       "      <th>14</th>\n",
       "      <td>0.738620</td>\n",
       "      <td>-2.566769</td>\n",
       "      <td>-3.215874</td>\n",
       "      <td>0.075640</td>\n",
       "      <td>0.030830</td>\n",
       "      <td>0.177286</td>\n",
       "      <td>0.373498</td>\n",
       "    </tr>\n",
       "    <tr>\n",
       "      <th>15</th>\n",
       "      <td>0.784760</td>\n",
       "      <td>-3.726706</td>\n",
       "      <td>-3.849820</td>\n",
       "      <td>0.229691</td>\n",
       "      <td>-0.203197</td>\n",
       "      <td>0.115805</td>\n",
       "      <td>0.132781</td>\n",
       "    </tr>\n",
       "    <tr>\n",
       "      <th>16</th>\n",
       "      <td>0.833782</td>\n",
       "      <td>-4.381882</td>\n",
       "      <td>-4.579161</td>\n",
       "      <td>0.245016</td>\n",
       "      <td>0.007331</td>\n",
       "      <td>-0.143078</td>\n",
       "      <td>0.182902</td>\n",
       "    </tr>\n",
       "    <tr>\n",
       "      <th>17</th>\n",
       "      <td>0.885867</td>\n",
       "      <td>-5.116026</td>\n",
       "      <td>-5.417046</td>\n",
       "      <td>0.264000</td>\n",
       "      <td>-0.034731</td>\n",
       "      <td>-0.184859</td>\n",
       "      <td>0.326405</td>\n",
       "    </tr>\n",
       "    <tr>\n",
       "      <th>18</th>\n",
       "      <td>0.941205</td>\n",
       "      <td>-5.516334</td>\n",
       "      <td>-6.378369</td>\n",
       "      <td>0.213925</td>\n",
       "      <td>-0.295933</td>\n",
       "      <td>0.445126</td>\n",
       "      <td>0.314313</td>\n",
       "    </tr>\n",
       "    <tr>\n",
       "      <th>19</th>\n",
       "      <td>1.000000</td>\n",
       "      <td>-7.296260</td>\n",
       "      <td>-7.480000</td>\n",
       "      <td>0.197417</td>\n",
       "      <td>-0.053515</td>\n",
       "      <td>0.139709</td>\n",
       "      <td>0.011017</td>\n",
       "    </tr>\n",
       "  </tbody>\n",
       "</table>\n",
       "</div>"
      ],
      "text/plain": [
       "           x      data    theory     stats    syst_0    syst_1    syst_2\n",
       "0   0.316228  0.662929  0.220700 -0.008452 -0.042862  0.171821  0.269259\n",
       "1   0.335982 -0.478121  0.155108  0.256306 -0.119357 -0.095773  0.064798\n",
       "2   0.356970  0.706554  0.075192  0.206044  0.095631  0.390226  0.201996\n",
       "3   0.379269  0.181989 -0.021261  0.148049  0.113882  0.013662  0.026648\n",
       "4   0.402961  0.276624 -0.136771  0.242499 -0.026322 -0.274674  0.092891\n",
       "5   0.428133  0.159089 -0.274208  0.424615 -0.057487  0.275505  0.105122\n",
       "6   0.454878  0.593451 -0.436837  0.298336  0.024691  0.174959  0.289990\n",
       "7   0.483293 -0.209623 -0.628370  0.175598 -0.216086  0.397272  0.245821\n",
       "8   0.513483 -0.297780 -0.853029  0.177603 -0.077613  0.454468  0.245516\n",
       "9   0.545559 -0.827076 -1.115610  0.097106  0.096129  0.191174  0.032835\n",
       "10  0.579639 -0.649058 -1.421558  0.346232 -0.058568  0.320332  0.238894\n",
       "11  0.615848 -1.377405 -1.777057  0.018399  0.066807  0.022054  0.267812\n",
       "12  0.654319 -1.677545 -2.189125  0.118116 -0.183489  0.388766  0.174226\n",
       "13  0.695193 -2.431669 -2.665721  0.363902 -0.165940  0.098529  0.283038\n",
       "14  0.738620 -2.566769 -3.215874  0.075640  0.030830  0.177286  0.373498\n",
       "15  0.784760 -3.726706 -3.849820  0.229691 -0.203197  0.115805  0.132781\n",
       "16  0.833782 -4.381882 -4.579161  0.245016  0.007331 -0.143078  0.182902\n",
       "17  0.885867 -5.116026 -5.417046  0.264000 -0.034731 -0.184859  0.326405\n",
       "18  0.941205 -5.516334 -6.378369  0.213925 -0.295933  0.445126  0.314313\n",
       "19  1.000000 -7.296260 -7.480000  0.197417 -0.053515  0.139709  0.011017"
      ]
     },
     "metadata": {},
     "output_type": "display_data"
    },
    {
     "data": {
      "image/png": "[encoded data removed]",
      "text/plain": [
       "<Figure size 432x288 with 1 Axes>"
      ]
     },
     "metadata": {
      "needs_background": "light"
     },
     "output_type": "display_data"
    }
   ],
   "source": [
    "xGrid_2 = np.logspace(-0.5,-0.0000000001,20)\n",
    "stats_2= np.array([np.random.normal(0.2, 0.1) for i in range(len(xGrid_2))])\n",
    "syst1_2 = [np.random.normal(-0.05, 0.15) for i in range(len(xGrid_2))]\n",
    "syst2_2 = [np.random.normal(0.15, 0.2) for i in range(len(xGrid_2))]\n",
    "syst3_2 = [np.random.normal(0.2, 0.1) for i in range(len(xGrid_2))]\n",
    "systFluct_2 = [0.5, 0.8, 1.2]\n",
    "dataGen_2 = DatasetGenerator(theoryParams, theory2, xGrid_2, stats_2, systFluct_2, syst1_2, syst2_2, syst3_2)"
   ]
  },
  {
   "cell_type": "code",
   "execution_count": 30,
   "metadata": {},
   "outputs": [
    {
     "name": "stdout",
     "output_type": "stream",
     "text": [
      "Real statistical error :  [-1.20660788  2.01132365 -0.54282884 -0.50830114  0.94964205]\n",
      "Real systematic error :  []\n"
     ]
    },
    {
     "data": {
      "text/html": [
       "<div>\n",
       "<style scoped>\n",
       "    .dataframe tbody tr th:only-of-type {\n",
       "        vertical-align: middle;\n",
       "    }\n",
       "\n",
       "    .dataframe tbody tr th {\n",
       "        vertical-align: top;\n",
       "    }\n",
       "\n",
       "    .dataframe thead th {\n",
       "        text-align: right;\n",
       "    }\n",
       "</style>\n",
       "<table border=\"1\" class=\"dataframe\">\n",
       "  <thead>\n",
       "    <tr style=\"text-align: right;\">\n",
       "      <th></th>\n",
       "      <th>x</th>\n",
       "      <th>data</th>\n",
       "      <th>theory</th>\n",
       "      <th>stats</th>\n",
       "    </tr>\n",
       "  </thead>\n",
       "  <tbody>\n",
       "    <tr>\n",
       "      <th>0</th>\n",
       "      <td>0.00</td>\n",
       "      <td>-1.206608</td>\n",
       "      <td>0.000</td>\n",
       "      <td>2.069205</td>\n",
       "    </tr>\n",
       "    <tr>\n",
       "      <th>1</th>\n",
       "      <td>0.25</td>\n",
       "      <td>4.406324</td>\n",
       "      <td>2.395</td>\n",
       "      <td>5.524613</td>\n",
       "    </tr>\n",
       "    <tr>\n",
       "      <th>2</th>\n",
       "      <td>0.50</td>\n",
       "      <td>9.037171</td>\n",
       "      <td>9.580</td>\n",
       "      <td>-2.285374</td>\n",
       "    </tr>\n",
       "    <tr>\n",
       "      <th>3</th>\n",
       "      <td>0.75</td>\n",
       "      <td>21.046699</td>\n",
       "      <td>21.555</td>\n",
       "      <td>-1.042542</td>\n",
       "    </tr>\n",
       "    <tr>\n",
       "      <th>4</th>\n",
       "      <td>1.00</td>\n",
       "      <td>39.269642</td>\n",
       "      <td>38.320</td>\n",
       "      <td>-2.233079</td>\n",
       "    </tr>\n",
       "  </tbody>\n",
       "</table>\n",
       "</div>"
      ],
      "text/plain": [
       "      x       data  theory     stats\n",
       "0  0.00  -1.206608   0.000  2.069205\n",
       "1  0.25   4.406324   2.395  5.524613\n",
       "2  0.50   9.037171   9.580 -2.285374\n",
       "3  0.75  21.046699  21.555 -1.042542\n",
       "4  1.00  39.269642  38.320 -2.233079"
      ]
     },
     "metadata": {},
     "output_type": "display_data"
    },
    {
     "data": {
      "image/png": "[encoded data removed]",
      "text/plain": [
       "<Figure size 432x288 with 1 Axes>"
      ]
     },
     "metadata": {
      "needs_background": "light"
     },
     "output_type": "display_data"
    }
   ],
   "source": [
    "xGrid_3 = np.linspace(0, 1, 5)\n",
    "stats_3= np.array([np.random.normal(1.5, 5.0) for i in range(len(xGrid_3))])\n",
    "#syst1_3 = [np.random.normal(-0.05, 0.15) for i in range(len(xGrid_2))]\n",
    "#syst2_2 = [np.random.normal(0.15, 0.2) for i in range(len(xGrid_2))]\n",
    "#syst3_2 = [np.random.normal(0.2, 0.1) for i in range(len(xGrid_2))]\n",
    "systFluct_3= []\n",
    "dataGen_3 = DatasetGenerator(theoryParams, theory3, xGrid_3, stats_3, systFluct_3)"
   ]
  },
  {
   "cell_type": "code",
   "execution_count": 31,
   "metadata": {},
   "outputs": [
    {
     "name": "stdout",
     "output_type": "stream",
     "text": [
      "Parameter at minimum :  [-2.07764514 -2.07776113 -2.33692059  4.99319947]\n",
      "Chisqr at minimum :  66.51573128037845\n",
      "Chisqr per dof :  1.090421824268499\n",
      "Parameter error using hessian method : \n",
      " [0.41697147 0.41699153 0.12876139 0.19203051]\n"
     ]
    },
    {
     "data": {
      "image/png": "[encoded data removed]",
      "text/plain": [
       "<Figure size 432x288 with 1 Axes>"
      ]
     },
     "metadata": {
      "needs_background": "light"
     },
     "output_type": "display_data"
    },
    {
     "data": {
      "image/png": "[encoded data removed]",
      "text/plain": [
       "<Figure size 432x288 with 1 Axes>"
      ]
     },
     "metadata": {
      "needs_background": "light"
     },
     "output_type": "display_data"
    },
    {
     "data": {
      "image/png": "[encoded data removed]",
      "text/plain": [
       "<Figure size 432x288 with 1 Axes>"
      ]
     },
     "metadata": {
      "needs_background": "light"
     },
     "output_type": "display_data"
    },
    {
     "name": "stdout",
     "output_type": "stream",
     "text": [
      "Parameter error using hessian method : \n",
      " [0.41697147 0.41699153 0.12876139 0.19203051]\n"
     ]
    }
   ],
   "source": [
    "chi1 = ChiSquareCorr(dataGen_1, theory1)\n",
    "chi2 = ChiSquareCorr(dataGen_2, theory2)\n",
    "chi3 = ChiSquareCorr(dataGen_3, theory3)\n",
    "globalAnalysis = GlobalAnalysis(1, chi1, chi2, chi3)\n",
    "bound = [(-10,10), (-10,10), (-10,10), (-10,10)]\n",
    "globalAnalysis.runFit(bound)\n",
    "globalAnalysis.getParameterError()\n",
    "#[2.8, 1.6, 2.6, -4.6  ]"
   ]
  },
  {
   "cell_type": "code",
   "execution_count": 32,
   "metadata": {},
   "outputs": [
    {
     "name": "stdout",
     "output_type": "stream",
     "text": [
      "Warning : negative eigenvalue :  -0.03422679182246271\n",
      "Warning : negative eigenvalue :  -0.009957182751088403\n",
      "Mean parAtmin : \n",
      " [ 0.48032745  0.4561731   0.17841378 -0.06291255]\n",
      "std parAtmin : \n",
      " [2.18940197 2.17060964 3.89969878 3.70214894]\n",
      "Mean funAtmin : \n",
      " 66.14402382847383\n",
      "std funAtmin : \n",
      " 12.788246457934008\n",
      "Mean z : \n",
      " [-191.46549586  -17.42601131   -0.24067992    3.20824165]\n",
      "std z : \n",
      " [374.15702759  68.1709582    2.54958708   7.11280245]\n"
     ]
    },
    {
     "data": {
      "image/png": "[encoded data removed]",
      "text/plain": [
       "<Figure size 432x288 with 1 Axes>"
      ]
     },
     "metadata": {
      "needs_background": "light"
     },
     "output_type": "display_data"
    },
    {
     "data": {
      "image/png": "[encoded data removed]",
      "text/plain": [
       "<Figure size 432x288 with 1 Axes>"
      ]
     },
     "metadata": {
      "needs_background": "light"
     },
     "output_type": "display_data"
    },
    {
     "data": {
      "image/png": "[encoded data removed]",
      "text/plain": [
       "<Figure size 432x288 with 1 Axes>"
      ]
     },
     "metadata": {
      "needs_background": "light"
     },
     "output_type": "display_data"
    },
    {
     "data": {
      "image/png": "[encoded data removed]",
      "text/plain": [
       "<Figure size 432x288 with 1 Axes>"
      ]
     },
     "metadata": {
      "needs_background": "light"
     },
     "output_type": "display_data"
    },
    {
     "data": {
      "image/png": "[encoded data removed]",
      "text/plain": [
       "<Figure size 432x288 with 1 Axes>"
      ]
     },
     "metadata": {
      "needs_background": "light"
     },
     "output_type": "display_data"
    },
    {
     "data": {
      "image/png": "[encoded data removed]",
      "text/plain": [
       "<Figure size 432x288 with 1 Axes>"
      ]
     },
     "metadata": {
      "needs_background": "light"
     },
     "output_type": "display_data"
    },
    {
     "data": {
      "image/png": "[encoded data removed]",
      "text/plain": [
       "<Figure size 432x288 with 1 Axes>"
      ]
     },
     "metadata": {
      "needs_background": "light"
     },
     "output_type": "display_data"
    },
    {
     "data": {
      "image/png": "[encoded data removed]",
      "text/plain": [
       "<Figure size 432x288 with 1 Axes>"
      ]
     },
     "metadata": {
      "needs_background": "light"
     },
     "output_type": "display_data"
    },
    {
     "data": {
      "image/png": "[encoded data removed]",
      "text/plain": [
       "<Figure size 432x288 with 1 Axes>"
      ]
     },
     "metadata": {
      "needs_background": "light"
     },
     "output_type": "display_data"
    }
   ],
   "source": [
    "globalAnalysis.runReplicaFits(bound, 500)\n",
    "#[2.8, 1.6, 2.6, -4.6  ]"
   ]
  },
  {
   "cell_type": "markdown",
   "metadata": {},
   "source": [
    "### Tensions"
   ]
  },
  {
   "cell_type": "code",
   "execution_count": 33,
   "metadata": {},
   "outputs": [],
   "source": [
    "def theory1 (x, params):\n",
    "    return (params[0] + params[1] + params[2]+ params[3]) * x**3\n",
    "def theory2 (x, params) : \n",
    "    return (params[0]*params[1])*x + (params[2]*params[3])* x**2 \n",
    "def theory3 (x, params) : \n",
    "    return (params[0]**2+params[1]**2+params[2]**2+params[3]**2) * x**2\n",
    "\n",
    "theoryParams1 = [2.8, 1.6, 2.4, -4.3  ]\n",
    "theoryParams2 = [2.9, 1.6, 2.6, -4.6  ]\n",
    "theoryParams3 = [2.2, 1.6, 2.5, -3.9  ]"
   ]
  },
  {
   "cell_type": "code",
   "execution_count": 34,
   "metadata": {},
   "outputs": [
    {
     "name": "stdout",
     "output_type": "stream",
     "text": [
      "Real statistical error :  [ 0.29254608  0.36199626 -0.00125023 -0.4821604   0.10943045  0.19566899\n",
      "  0.58142375 -0.25979745 -0.33464054 -0.42865282  0.81660922  0.36997021\n",
      " -0.46092616  0.31421268  0.19070778  0.18325723  0.24643086 -0.03958058\n",
      "  0.63135123 -0.12401198 -0.48292164 -0.48634827  0.83665245 -0.0029897\n",
      " -0.47730561 -0.1317697  -0.11675436  0.43211134 -0.1325469  -0.13121356\n",
      "  0.06787586  0.14335592  0.26150374  0.22772386  0.69202395  0.01572243\n",
      "  0.43753092  0.26431118 -0.20081291 -0.24541658]\n",
      "Real systematic error :  [[-0.11648091 -0.12710325 -0.05851613 -0.49577686 -0.08262809 -0.10576069\n",
      "  -0.28185459 -0.10082685  0.14807886 -0.0418737  -0.10693324 -0.12355951\n",
      "  -0.24103278 -0.4408668  -0.07948567 -0.24216688 -0.31391268 -0.3729703\n",
      "   0.14758439 -0.12176999 -0.2368238   0.11515491 -0.13263044 -0.46991417\n",
      "  -0.31686754 -0.0767606  -0.02454324 -0.17467401 -0.08055964  0.06650721\n",
      "  -0.05418011  0.08638062 -0.02436566 -0.13724946 -0.57347238 -0.18694547\n",
      "   0.09991538 -0.34535706 -0.3263209  -0.08603817]\n",
      " [ 0.72336996  0.38884752  0.27081496 -0.34698644 -0.37551995  0.36868591\n",
      "   0.29842492  0.45779229  0.23664926 -0.12658153  0.33827505  0.05402133\n",
      "   0.01464568  0.1212998  -0.14594283  0.49243501 -0.16196882  0.19665323\n",
      "  -0.40394558  0.50823837 -0.19687363  0.34352314  0.16969184 -0.20428777\n",
      "  -0.17110476  0.11301586  0.50070415  0.43665357  0.48013506  0.04845631\n",
      "   0.14872375 -0.03402269  0.58239444 -0.38325459 -0.00583464  0.07876352\n",
      "   0.12079086 -0.1501847   0.21421154  0.67138953]]\n"
     ]
    },
    {
     "data": {
      "text/html": [
       "<div>\n",
       "<style scoped>\n",
       "    .dataframe tbody tr th:only-of-type {\n",
       "        vertical-align: middle;\n",
       "    }\n",
       "\n",
       "    .dataframe tbody tr th {\n",
       "        vertical-align: top;\n",
       "    }\n",
       "\n",
       "    .dataframe thead th {\n",
       "        text-align: right;\n",
       "    }\n",
       "</style>\n",
       "<table border=\"1\" class=\"dataframe\">\n",
       "  <thead>\n",
       "    <tr style=\"text-align: right;\">\n",
       "      <th></th>\n",
       "      <th>x</th>\n",
       "      <th>data</th>\n",
       "      <th>theory</th>\n",
       "      <th>stats</th>\n",
       "      <th>syst_0</th>\n",
       "      <th>syst_1</th>\n",
       "    </tr>\n",
       "  </thead>\n",
       "  <tbody>\n",
       "    <tr>\n",
       "      <th>0</th>\n",
       "      <td>0.100000</td>\n",
       "      <td>0.901935</td>\n",
       "      <td>0.002500</td>\n",
       "      <td>0.339454</td>\n",
       "      <td>-0.166401</td>\n",
       "      <td>0.657609</td>\n",
       "    </tr>\n",
       "    <tr>\n",
       "      <th>1</th>\n",
       "      <td>0.104219</td>\n",
       "      <td>0.626571</td>\n",
       "      <td>0.002830</td>\n",
       "      <td>0.419409</td>\n",
       "      <td>-0.181576</td>\n",
       "      <td>0.353498</td>\n",
       "    </tr>\n",
       "    <tr>\n",
       "      <th>2</th>\n",
       "      <td>0.108617</td>\n",
       "      <td>0.214252</td>\n",
       "      <td>0.003204</td>\n",
       "      <td>0.136806</td>\n",
       "      <td>-0.083594</td>\n",
       "      <td>0.246195</td>\n",
       "    </tr>\n",
       "    <tr>\n",
       "      <th>3</th>\n",
       "      <td>0.113200</td>\n",
       "      <td>-1.321297</td>\n",
       "      <td>0.003626</td>\n",
       "      <td>0.394660</td>\n",
       "      <td>-0.708253</td>\n",
       "      <td>-0.315442</td>\n",
       "    </tr>\n",
       "    <tr>\n",
       "      <th>4</th>\n",
       "      <td>0.117976</td>\n",
       "      <td>-0.344612</td>\n",
       "      <td>0.004105</td>\n",
       "      <td>0.308735</td>\n",
       "      <td>-0.118040</td>\n",
       "      <td>-0.341382</td>\n",
       "    </tr>\n",
       "    <tr>\n",
       "      <th>5</th>\n",
       "      <td>0.122954</td>\n",
       "      <td>0.463241</td>\n",
       "      <td>0.004647</td>\n",
       "      <td>0.260062</td>\n",
       "      <td>-0.151087</td>\n",
       "      <td>0.335169</td>\n",
       "    </tr>\n",
       "    <tr>\n",
       "      <th>6</th>\n",
       "      <td>0.128142</td>\n",
       "      <td>0.603254</td>\n",
       "      <td>0.005260</td>\n",
       "      <td>0.227014</td>\n",
       "      <td>-0.402649</td>\n",
       "      <td>0.271295</td>\n",
       "    </tr>\n",
       "    <tr>\n",
       "      <th>7</th>\n",
       "      <td>0.133549</td>\n",
       "      <td>0.103123</td>\n",
       "      <td>0.005955</td>\n",
       "      <td>0.360662</td>\n",
       "      <td>-0.144038</td>\n",
       "      <td>0.416175</td>\n",
       "    </tr>\n",
       "    <tr>\n",
       "      <th>8</th>\n",
       "      <td>0.139184</td>\n",
       "      <td>0.056828</td>\n",
       "      <td>0.006741</td>\n",
       "      <td>0.173687</td>\n",
       "      <td>0.211541</td>\n",
       "      <td>0.215136</td>\n",
       "    </tr>\n",
       "    <tr>\n",
       "      <th>9</th>\n",
       "      <td>0.145057</td>\n",
       "      <td>-0.589478</td>\n",
       "      <td>0.007631</td>\n",
       "      <td>0.296822</td>\n",
       "      <td>-0.059820</td>\n",
       "      <td>-0.115074</td>\n",
       "    </tr>\n",
       "    <tr>\n",
       "      <th>10</th>\n",
       "      <td>0.151178</td>\n",
       "      <td>1.056589</td>\n",
       "      <td>0.008638</td>\n",
       "      <td>0.407324</td>\n",
       "      <td>-0.152762</td>\n",
       "      <td>0.307523</td>\n",
       "    </tr>\n",
       "    <tr>\n",
       "      <th>11</th>\n",
       "      <td>0.157556</td>\n",
       "      <td>0.310210</td>\n",
       "      <td>0.009778</td>\n",
       "      <td>0.245390</td>\n",
       "      <td>-0.176514</td>\n",
       "      <td>0.049110</td>\n",
       "    </tr>\n",
       "    <tr>\n",
       "      <th>12</th>\n",
       "      <td>0.164204</td>\n",
       "      <td>-0.676245</td>\n",
       "      <td>0.011069</td>\n",
       "      <td>0.414194</td>\n",
       "      <td>-0.344333</td>\n",
       "      <td>0.013314</td>\n",
       "    </tr>\n",
       "    <tr>\n",
       "      <th>13</th>\n",
       "      <td>0.171133</td>\n",
       "      <td>0.007175</td>\n",
       "      <td>0.012530</td>\n",
       "      <td>0.373398</td>\n",
       "      <td>-0.629810</td>\n",
       "      <td>0.110273</td>\n",
       "    </tr>\n",
       "    <tr>\n",
       "      <th>14</th>\n",
       "      <td>0.178354</td>\n",
       "      <td>-0.020537</td>\n",
       "      <td>0.014184</td>\n",
       "      <td>0.397235</td>\n",
       "      <td>-0.113551</td>\n",
       "      <td>-0.132675</td>\n",
       "    </tr>\n",
       "    <tr>\n",
       "      <th>15</th>\n",
       "      <td>0.185879</td>\n",
       "      <td>0.449581</td>\n",
       "      <td>0.016056</td>\n",
       "      <td>0.326478</td>\n",
       "      <td>-0.345953</td>\n",
       "      <td>0.447668</td>\n",
       "    </tr>\n",
       "    <tr>\n",
       "      <th>16</th>\n",
       "      <td>0.193722</td>\n",
       "      <td>-0.211275</td>\n",
       "      <td>0.018175</td>\n",
       "      <td>0.250190</td>\n",
       "      <td>-0.448447</td>\n",
       "      <td>-0.147244</td>\n",
       "    </tr>\n",
       "    <tr>\n",
       "      <th>17</th>\n",
       "      <td>0.201896</td>\n",
       "      <td>-0.195323</td>\n",
       "      <td>0.020574</td>\n",
       "      <td>0.066573</td>\n",
       "      <td>-0.532815</td>\n",
       "      <td>0.178776</td>\n",
       "    </tr>\n",
       "    <tr>\n",
       "      <th>18</th>\n",
       "      <td>0.210415</td>\n",
       "      <td>0.398280</td>\n",
       "      <td>0.023290</td>\n",
       "      <td>0.444673</td>\n",
       "      <td>0.210835</td>\n",
       "      <td>-0.367223</td>\n",
       "    </tr>\n",
       "    <tr>\n",
       "      <th>19</th>\n",
       "      <td>0.219293</td>\n",
       "      <td>0.288821</td>\n",
       "      <td>0.026364</td>\n",
       "      <td>0.386785</td>\n",
       "      <td>-0.173957</td>\n",
       "      <td>0.462035</td>\n",
       "    </tr>\n",
       "    <tr>\n",
       "      <th>20</th>\n",
       "      <td>0.228546</td>\n",
       "      <td>-0.886775</td>\n",
       "      <td>0.029844</td>\n",
       "      <td>0.335900</td>\n",
       "      <td>-0.338320</td>\n",
       "      <td>-0.178976</td>\n",
       "    </tr>\n",
       "    <tr>\n",
       "      <th>21</th>\n",
       "      <td>0.238190</td>\n",
       "      <td>0.006114</td>\n",
       "      <td>0.033784</td>\n",
       "      <td>0.265472</td>\n",
       "      <td>0.164507</td>\n",
       "      <td>0.312294</td>\n",
       "    </tr>\n",
       "    <tr>\n",
       "      <th>22</th>\n",
       "      <td>0.248240</td>\n",
       "      <td>0.911957</td>\n",
       "      <td>0.038243</td>\n",
       "      <td>0.495445</td>\n",
       "      <td>-0.189472</td>\n",
       "      <td>0.154265</td>\n",
       "    </tr>\n",
       "    <tr>\n",
       "      <th>23</th>\n",
       "      <td>0.258714</td>\n",
       "      <td>-0.633900</td>\n",
       "      <td>0.043291</td>\n",
       "      <td>-0.007153</td>\n",
       "      <td>-0.671306</td>\n",
       "      <td>-0.185716</td>\n",
       "    </tr>\n",
       "    <tr>\n",
       "      <th>24</th>\n",
       "      <td>0.269631</td>\n",
       "      <td>-0.916272</td>\n",
       "      <td>0.049006</td>\n",
       "      <td>0.445014</td>\n",
       "      <td>-0.452668</td>\n",
       "      <td>-0.155550</td>\n",
       "    </tr>\n",
       "    <tr>\n",
       "      <th>25</th>\n",
       "      <td>0.281008</td>\n",
       "      <td>-0.040040</td>\n",
       "      <td>0.055475</td>\n",
       "      <td>0.319898</td>\n",
       "      <td>-0.109658</td>\n",
       "      <td>0.102742</td>\n",
       "    </tr>\n",
       "    <tr>\n",
       "      <th>26</th>\n",
       "      <td>0.292864</td>\n",
       "      <td>0.422204</td>\n",
       "      <td>0.062797</td>\n",
       "      <td>0.219153</td>\n",
       "      <td>-0.035062</td>\n",
       "      <td>0.455186</td>\n",
       "    </tr>\n",
       "    <tr>\n",
       "      <th>27</th>\n",
       "      <td>0.305222</td>\n",
       "      <td>0.765177</td>\n",
       "      <td>0.071086</td>\n",
       "      <td>0.381494</td>\n",
       "      <td>-0.249534</td>\n",
       "      <td>0.396958</td>\n",
       "    </tr>\n",
       "    <tr>\n",
       "      <th>28</th>\n",
       "      <td>0.318100</td>\n",
       "      <td>0.347498</td>\n",
       "      <td>0.080470</td>\n",
       "      <td>0.110641</td>\n",
       "      <td>-0.115085</td>\n",
       "      <td>0.436486</td>\n",
       "    </tr>\n",
       "    <tr>\n",
       "      <th>29</th>\n",
       "      <td>0.331522</td>\n",
       "      <td>0.074842</td>\n",
       "      <td>0.091092</td>\n",
       "      <td>0.169961</td>\n",
       "      <td>0.095010</td>\n",
       "      <td>0.044051</td>\n",
       "    </tr>\n",
       "    <tr>\n",
       "      <th>30</th>\n",
       "      <td>0.345511</td>\n",
       "      <td>0.265535</td>\n",
       "      <td>0.103116</td>\n",
       "      <td>0.230244</td>\n",
       "      <td>-0.077400</td>\n",
       "      <td>0.135203</td>\n",
       "    </tr>\n",
       "    <tr>\n",
       "      <th>31</th>\n",
       "      <td>0.360089</td>\n",
       "      <td>0.312441</td>\n",
       "      <td>0.116727</td>\n",
       "      <td>0.334668</td>\n",
       "      <td>0.123401</td>\n",
       "      <td>-0.030930</td>\n",
       "    </tr>\n",
       "    <tr>\n",
       "      <th>32</th>\n",
       "      <td>0.375283</td>\n",
       "      <td>0.951667</td>\n",
       "      <td>0.132135</td>\n",
       "      <td>0.161019</td>\n",
       "      <td>-0.034808</td>\n",
       "      <td>0.529449</td>\n",
       "    </tr>\n",
       "    <tr>\n",
       "      <th>33</th>\n",
       "      <td>0.391118</td>\n",
       "      <td>-0.143204</td>\n",
       "      <td>0.149576</td>\n",
       "      <td>0.498904</td>\n",
       "      <td>-0.196071</td>\n",
       "      <td>-0.348413</td>\n",
       "    </tr>\n",
       "    <tr>\n",
       "      <th>34</th>\n",
       "      <td>0.407621</td>\n",
       "      <td>0.282037</td>\n",
       "      <td>0.169320</td>\n",
       "      <td>0.450546</td>\n",
       "      <td>-0.819246</td>\n",
       "      <td>-0.005304</td>\n",
       "    </tr>\n",
       "    <tr>\n",
       "      <th>35</th>\n",
       "      <td>0.424820</td>\n",
       "      <td>0.099211</td>\n",
       "      <td>0.191671</td>\n",
       "      <td>0.318172</td>\n",
       "      <td>-0.267065</td>\n",
       "      <td>0.071603</td>\n",
       "    </tr>\n",
       "    <tr>\n",
       "      <th>36</th>\n",
       "      <td>0.442745</td>\n",
       "      <td>0.875208</td>\n",
       "      <td>0.216971</td>\n",
       "      <td>0.422632</td>\n",
       "      <td>0.142736</td>\n",
       "      <td>0.109810</td>\n",
       "    </tr>\n",
       "    <tr>\n",
       "      <th>37</th>\n",
       "      <td>0.461427</td>\n",
       "      <td>0.014380</td>\n",
       "      <td>0.245611</td>\n",
       "      <td>0.342891</td>\n",
       "      <td>-0.493367</td>\n",
       "      <td>-0.136532</td>\n",
       "    </tr>\n",
       "    <tr>\n",
       "      <th>38</th>\n",
       "      <td>0.480896</td>\n",
       "      <td>-0.034891</td>\n",
       "      <td>0.278031</td>\n",
       "      <td>0.447066</td>\n",
       "      <td>-0.466173</td>\n",
       "      <td>0.194738</td>\n",
       "    </tr>\n",
       "    <tr>\n",
       "      <th>39</th>\n",
       "      <td>0.501187</td>\n",
       "      <td>0.654666</td>\n",
       "      <td>0.314731</td>\n",
       "      <td>0.321915</td>\n",
       "      <td>-0.122912</td>\n",
       "      <td>0.610354</td>\n",
       "    </tr>\n",
       "  </tbody>\n",
       "</table>\n",
       "</div>"
      ],
      "text/plain": [
       "           x      data    theory     stats    syst_0    syst_1\n",
       "0   0.100000  0.901935  0.002500  0.339454 -0.166401  0.657609\n",
       "1   0.104219  0.626571  0.002830  0.419409 -0.181576  0.353498\n",
       "2   0.108617  0.214252  0.003204  0.136806 -0.083594  0.246195\n",
       "3   0.113200 -1.321297  0.003626  0.394660 -0.708253 -0.315442\n",
       "4   0.117976 -0.344612  0.004105  0.308735 -0.118040 -0.341382\n",
       "5   0.122954  0.463241  0.004647  0.260062 -0.151087  0.335169\n",
       "6   0.128142  0.603254  0.005260  0.227014 -0.402649  0.271295\n",
       "7   0.133549  0.103123  0.005955  0.360662 -0.144038  0.416175\n",
       "8   0.139184  0.056828  0.006741  0.173687  0.211541  0.215136\n",
       "9   0.145057 -0.589478  0.007631  0.296822 -0.059820 -0.115074\n",
       "10  0.151178  1.056589  0.008638  0.407324 -0.152762  0.307523\n",
       "11  0.157556  0.310210  0.009778  0.245390 -0.176514  0.049110\n",
       "12  0.164204 -0.676245  0.011069  0.414194 -0.344333  0.013314\n",
       "13  0.171133  0.007175  0.012530  0.373398 -0.629810  0.110273\n",
       "14  0.178354 -0.020537  0.014184  0.397235 -0.113551 -0.132675\n",
       "15  0.185879  0.449581  0.016056  0.326478 -0.345953  0.447668\n",
       "16  0.193722 -0.211275  0.018175  0.250190 -0.448447 -0.147244\n",
       "17  0.201896 -0.195323  0.020574  0.066573 -0.532815  0.178776\n",
       "18  0.210415  0.398280  0.023290  0.444673  0.210835 -0.367223\n",
       "19  0.219293  0.288821  0.026364  0.386785 -0.173957  0.462035\n",
       "20  0.228546 -0.886775  0.029844  0.335900 -0.338320 -0.178976\n",
       "21  0.238190  0.006114  0.033784  0.265472  0.164507  0.312294\n",
       "22  0.248240  0.911957  0.038243  0.495445 -0.189472  0.154265\n",
       "23  0.258714 -0.633900  0.043291 -0.007153 -0.671306 -0.185716\n",
       "24  0.269631 -0.916272  0.049006  0.445014 -0.452668 -0.155550\n",
       "25  0.281008 -0.040040  0.055475  0.319898 -0.109658  0.102742\n",
       "26  0.292864  0.422204  0.062797  0.219153 -0.035062  0.455186\n",
       "27  0.305222  0.765177  0.071086  0.381494 -0.249534  0.396958\n",
       "28  0.318100  0.347498  0.080470  0.110641 -0.115085  0.436486\n",
       "29  0.331522  0.074842  0.091092  0.169961  0.095010  0.044051\n",
       "30  0.345511  0.265535  0.103116  0.230244 -0.077400  0.135203\n",
       "31  0.360089  0.312441  0.116727  0.334668  0.123401 -0.030930\n",
       "32  0.375283  0.951667  0.132135  0.161019 -0.034808  0.529449\n",
       "33  0.391118 -0.143204  0.149576  0.498904 -0.196071 -0.348413\n",
       "34  0.407621  0.282037  0.169320  0.450546 -0.819246 -0.005304\n",
       "35  0.424820  0.099211  0.191671  0.318172 -0.267065  0.071603\n",
       "36  0.442745  0.875208  0.216971  0.422632  0.142736  0.109810\n",
       "37  0.461427  0.014380  0.245611  0.342891 -0.493367 -0.136532\n",
       "38  0.480896 -0.034891  0.278031  0.447066 -0.466173  0.194738\n",
       "39  0.501187  0.654666  0.314731  0.321915 -0.122912  0.610354"
      ]
     },
     "metadata": {},
     "output_type": "display_data"
    },
    {
     "data": {
      "image/png": "[encoded data removed]",
      "text/plain": [
       "<Figure size 432x288 with 1 Axes>"
      ]
     },
     "metadata": {
      "needs_background": "light"
     },
     "output_type": "display_data"
    }
   ],
   "source": [
    "xGrid_1 =  np.logspace(-1,-0.3,40)\n",
    "stats_1 = np.array([np.random.normal(0.3, 0.1) for i in range(len(xGrid_1))])\n",
    "syst1_1 = [np.random.normal(-0.2, 0.25) for i in range(len(xGrid_1))]\n",
    "syst2_1 = [np.random.normal(0.1, 0.3) for i in range(len(xGrid_1))]\n",
    "systFluct_1 = [0.7, 1.1]\n",
    "dataGen_1 = DatasetGenerator(theoryParams1, theory1, xGrid_1, stats_1, systFluct_1, syst1_1, syst2_1)"
   ]
  },
  {
   "cell_type": "code",
   "execution_count": 35,
   "metadata": {},
   "outputs": [
    {
     "name": "stdout",
     "output_type": "stream",
     "text": [
      "Real statistical error :  [-0.27530318  0.21532976 -0.06025481 -0.4720865   0.16751283 -0.17579609\n",
      " -0.1695197   0.16213994 -0.02851514  0.0625568  -0.06323281  0.10101746\n",
      " -0.28255743 -0.39199287  0.08945739  0.0934657  -0.22308308  0.32610599\n",
      "  0.02193897 -0.08959206]\n",
      "Real systematic error :  [[-0.0841283   0.03029336 -0.02462608  0.05562277  0.07145973 -0.10858388\n",
      "   0.04481896 -0.04517726 -0.04993642 -0.078951    0.05919761 -0.05651873\n",
      "  -0.13749279 -0.11397207  0.04234036 -0.08078192 -0.10165941  0.01882172\n",
      "  -0.06540225 -0.02562493]\n",
      " [ 0.01461596 -0.15047281  0.07397567  0.30564013  0.15656624 -0.29123351\n",
      "  -0.21976446 -0.17766373  0.11110544  0.0550632   0.17238882  0.28419643\n",
      "   0.21436177 -0.02607935  0.2542376  -0.02357559  0.06491091  0.32238633\n",
      "   0.15660893  0.10251386]\n",
      " [ 0.182873    0.08794559  0.16568548  0.30070169  0.21862986  0.28034371\n",
      "   0.24930189  0.16723492 -0.03048225  0.1993722   0.30557382  0.31175233\n",
      "   0.36482393  0.22384774  0.38521907  0.27977994  0.12050402  0.11404213\n",
      "   0.35042899  0.23122092]]\n"
     ]
    },
    {
     "data": {
      "text/html": [
       "<div>\n",
       "<style scoped>\n",
       "    .dataframe tbody tr th:only-of-type {\n",
       "        vertical-align: middle;\n",
       "    }\n",
       "\n",
       "    .dataframe tbody tr th {\n",
       "        vertical-align: top;\n",
       "    }\n",
       "\n",
       "    .dataframe thead th {\n",
       "        text-align: right;\n",
       "    }\n",
       "</style>\n",
       "<table border=\"1\" class=\"dataframe\">\n",
       "  <thead>\n",
       "    <tr style=\"text-align: right;\">\n",
       "      <th></th>\n",
       "      <th>x</th>\n",
       "      <th>data</th>\n",
       "      <th>theory</th>\n",
       "      <th>stats</th>\n",
       "      <th>syst_0</th>\n",
       "      <th>syst_1</th>\n",
       "      <th>syst_2</th>\n",
       "    </tr>\n",
       "  </thead>\n",
       "  <tbody>\n",
       "    <tr>\n",
       "      <th>0</th>\n",
       "      <td>0.316228</td>\n",
       "      <td>0.109354</td>\n",
       "      <td>0.271297</td>\n",
       "      <td>0.219023</td>\n",
       "      <td>-0.168257</td>\n",
       "      <td>0.018270</td>\n",
       "      <td>0.152394</td>\n",
       "    </tr>\n",
       "    <tr>\n",
       "      <th>1</th>\n",
       "      <td>0.335982</td>\n",
       "      <td>0.391961</td>\n",
       "      <td>0.208866</td>\n",
       "      <td>0.165650</td>\n",
       "      <td>0.060587</td>\n",
       "      <td>-0.188091</td>\n",
       "      <td>0.073288</td>\n",
       "    </tr>\n",
       "    <tr>\n",
       "      <th>2</th>\n",
       "      <td>0.356970</td>\n",
       "      <td>0.287088</td>\n",
       "      <td>0.132307</td>\n",
       "      <td>0.108457</td>\n",
       "      <td>-0.049252</td>\n",
       "      <td>0.092470</td>\n",
       "      <td>0.138071</td>\n",
       "    </tr>\n",
       "    <tr>\n",
       "      <th>3</th>\n",
       "      <td>0.379269</td>\n",
       "      <td>0.229300</td>\n",
       "      <td>0.039422</td>\n",
       "      <td>0.251840</td>\n",
       "      <td>0.111246</td>\n",
       "      <td>0.382050</td>\n",
       "      <td>0.250585</td>\n",
       "    </tr>\n",
       "    <tr>\n",
       "      <th>4</th>\n",
       "      <td>0.402961</td>\n",
       "      <td>0.541871</td>\n",
       "      <td>-0.072297</td>\n",
       "      <td>0.150165</td>\n",
       "      <td>0.142919</td>\n",
       "      <td>0.195708</td>\n",
       "      <td>0.182192</td>\n",
       "    </tr>\n",
       "    <tr>\n",
       "      <th>5</th>\n",
       "      <td>0.428133</td>\n",
       "      <td>-0.500976</td>\n",
       "      <td>-0.205707</td>\n",
       "      <td>0.237450</td>\n",
       "      <td>-0.217168</td>\n",
       "      <td>-0.364042</td>\n",
       "      <td>0.233620</td>\n",
       "    </tr>\n",
       "    <tr>\n",
       "      <th>6</th>\n",
       "      <td>0.454878</td>\n",
       "      <td>-0.459219</td>\n",
       "      <td>-0.364056</td>\n",
       "      <td>0.250972</td>\n",
       "      <td>0.089638</td>\n",
       "      <td>-0.274706</td>\n",
       "      <td>0.207752</td>\n",
       "    </tr>\n",
       "    <tr>\n",
       "      <th>7</th>\n",
       "      <td>0.483293</td>\n",
       "      <td>-0.444509</td>\n",
       "      <td>-0.551043</td>\n",
       "      <td>0.174353</td>\n",
       "      <td>-0.090355</td>\n",
       "      <td>-0.222080</td>\n",
       "      <td>0.139362</td>\n",
       "    </tr>\n",
       "    <tr>\n",
       "      <th>8</th>\n",
       "      <td>0.513483</td>\n",
       "      <td>-0.768700</td>\n",
       "      <td>-0.770872</td>\n",
       "      <td>0.107401</td>\n",
       "      <td>-0.099873</td>\n",
       "      <td>0.138882</td>\n",
       "      <td>-0.025402</td>\n",
       "    </tr>\n",
       "    <tr>\n",
       "      <th>9</th>\n",
       "      <td>0.545559</td>\n",
       "      <td>-0.790279</td>\n",
       "      <td>-1.028320</td>\n",
       "      <td>0.215755</td>\n",
       "      <td>-0.157902</td>\n",
       "      <td>0.068829</td>\n",
       "      <td>0.166144</td>\n",
       "    </tr>\n",
       "    <tr>\n",
       "      <th>10</th>\n",
       "      <td>0.579639</td>\n",
       "      <td>-0.854888</td>\n",
       "      <td>-1.328816</td>\n",
       "      <td>0.170642</td>\n",
       "      <td>0.118395</td>\n",
       "      <td>0.215486</td>\n",
       "      <td>0.254645</td>\n",
       "    </tr>\n",
       "    <tr>\n",
       "      <th>11</th>\n",
       "      <td>0.615848</td>\n",
       "      <td>-1.038074</td>\n",
       "      <td>-1.678522</td>\n",
       "      <td>0.239482</td>\n",
       "      <td>-0.113037</td>\n",
       "      <td>0.355246</td>\n",
       "      <td>0.259794</td>\n",
       "    </tr>\n",
       "    <tr>\n",
       "      <th>12</th>\n",
       "      <td>0.654319</td>\n",
       "      <td>-1.925298</td>\n",
       "      <td>-2.084434</td>\n",
       "      <td>0.224849</td>\n",
       "      <td>-0.274986</td>\n",
       "      <td>0.267952</td>\n",
       "      <td>0.304020</td>\n",
       "    </tr>\n",
       "    <tr>\n",
       "      <th>13</th>\n",
       "      <td>0.695193</td>\n",
       "      <td>-2.862687</td>\n",
       "      <td>-2.554490</td>\n",
       "      <td>0.227163</td>\n",
       "      <td>-0.227944</td>\n",
       "      <td>-0.032599</td>\n",
       "      <td>0.186540</td>\n",
       "    </tr>\n",
       "    <tr>\n",
       "      <th>14</th>\n",
       "      <td>0.738620</td>\n",
       "      <td>-2.326440</td>\n",
       "      <td>-3.097695</td>\n",
       "      <td>0.084723</td>\n",
       "      <td>0.084681</td>\n",
       "      <td>0.317797</td>\n",
       "      <td>0.321016</td>\n",
       "    </tr>\n",
       "    <tr>\n",
       "      <th>15</th>\n",
       "      <td>0.784760</td>\n",
       "      <td>-3.455370</td>\n",
       "      <td>-3.724258</td>\n",
       "      <td>0.082218</td>\n",
       "      <td>-0.161564</td>\n",
       "      <td>-0.029469</td>\n",
       "      <td>0.233150</td>\n",
       "    </tr>\n",
       "    <tr>\n",
       "      <th>16</th>\n",
       "      <td>0.833782</td>\n",
       "      <td>-4.585084</td>\n",
       "      <td>-4.445756</td>\n",
       "      <td>0.210212</td>\n",
       "      <td>-0.203319</td>\n",
       "      <td>0.081139</td>\n",
       "      <td>0.100420</td>\n",
       "    </tr>\n",
       "    <tr>\n",
       "      <th>17</th>\n",
       "      <td>0.885867</td>\n",
       "      <td>-4.493951</td>\n",
       "      <td>-5.275307</td>\n",
       "      <td>0.304639</td>\n",
       "      <td>0.037643</td>\n",
       "      <td>0.402983</td>\n",
       "      <td>0.095035</td>\n",
       "    </tr>\n",
       "    <tr>\n",
       "      <th>18</th>\n",
       "      <td>0.941205</td>\n",
       "      <td>-5.764201</td>\n",
       "      <td>-6.227776</td>\n",
       "      <td>0.083324</td>\n",
       "      <td>-0.130805</td>\n",
       "      <td>0.195761</td>\n",
       "      <td>0.292024</td>\n",
       "    </tr>\n",
       "    <tr>\n",
       "      <th>19</th>\n",
       "      <td>1.000000</td>\n",
       "      <td>-7.101482</td>\n",
       "      <td>-7.320000</td>\n",
       "      <td>0.162491</td>\n",
       "      <td>-0.051250</td>\n",
       "      <td>0.128142</td>\n",
       "      <td>0.192684</td>\n",
       "    </tr>\n",
       "  </tbody>\n",
       "</table>\n",
       "</div>"
      ],
      "text/plain": [
       "           x      data    theory     stats    syst_0    syst_1    syst_2\n",
       "0   0.316228  0.109354  0.271297  0.219023 -0.168257  0.018270  0.152394\n",
       "1   0.335982  0.391961  0.208866  0.165650  0.060587 -0.188091  0.073288\n",
       "2   0.356970  0.287088  0.132307  0.108457 -0.049252  0.092470  0.138071\n",
       "3   0.379269  0.229300  0.039422  0.251840  0.111246  0.382050  0.250585\n",
       "4   0.402961  0.541871 -0.072297  0.150165  0.142919  0.195708  0.182192\n",
       "5   0.428133 -0.500976 -0.205707  0.237450 -0.217168 -0.364042  0.233620\n",
       "6   0.454878 -0.459219 -0.364056  0.250972  0.089638 -0.274706  0.207752\n",
       "7   0.483293 -0.444509 -0.551043  0.174353 -0.090355 -0.222080  0.139362\n",
       "8   0.513483 -0.768700 -0.770872  0.107401 -0.099873  0.138882 -0.025402\n",
       "9   0.545559 -0.790279 -1.028320  0.215755 -0.157902  0.068829  0.166144\n",
       "10  0.579639 -0.854888 -1.328816  0.170642  0.118395  0.215486  0.254645\n",
       "11  0.615848 -1.038074 -1.678522  0.239482 -0.113037  0.355246  0.259794\n",
       "12  0.654319 -1.925298 -2.084434  0.224849 -0.274986  0.267952  0.304020\n",
       "13  0.695193 -2.862687 -2.554490  0.227163 -0.227944 -0.032599  0.186540\n",
       "14  0.738620 -2.326440 -3.097695  0.084723  0.084681  0.317797  0.321016\n",
       "15  0.784760 -3.455370 -3.724258  0.082218 -0.161564 -0.029469  0.233150\n",
       "16  0.833782 -4.585084 -4.445756  0.210212 -0.203319  0.081139  0.100420\n",
       "17  0.885867 -4.493951 -5.275307  0.304639  0.037643  0.402983  0.095035\n",
       "18  0.941205 -5.764201 -6.227776  0.083324 -0.130805  0.195761  0.292024\n",
       "19  1.000000 -7.101482 -7.320000  0.162491 -0.051250  0.128142  0.192684"
      ]
     },
     "metadata": {},
     "output_type": "display_data"
    },
    {
     "data": {
      "image/png": "[encoded data removed]",
      "text/plain": [
       "<Figure size 432x288 with 1 Axes>"
      ]
     },
     "metadata": {
      "needs_background": "light"
     },
     "output_type": "display_data"
    }
   ],
   "source": [
    "xGrid_2 = np.logspace(-0.5,-0.0000000001,20)\n",
    "stats_2= np.array([np.random.normal(0.2, 0.1) for i in range(len(xGrid_2))])\n",
    "syst1_2 = [np.random.normal(-0.05, 0.15) for i in range(len(xGrid_2))]\n",
    "syst2_2 = [np.random.normal(0.15, 0.2) for i in range(len(xGrid_2))]\n",
    "syst3_2 = [np.random.normal(0.2, 0.1) for i in range(len(xGrid_2))]\n",
    "systFluct_2 = [0.5, 0.8, 1.2]\n",
    "dataGen_2 = DatasetGenerator(theoryParams2, theory2, xGrid_2, stats_2, systFluct_2, syst1_2, syst2_2, syst3_2)"
   ]
  },
  {
   "cell_type": "code",
   "execution_count": 36,
   "metadata": {},
   "outputs": [
    {
     "name": "stdout",
     "output_type": "stream",
     "text": [
      "Real statistical error :  [ 5.03090746  0.90468122 -2.25418278 -1.46959489  4.06785155]\n",
      "Real systematic error :  []\n"
     ]
    },
    {
     "data": {
      "text/html": [
       "<div>\n",
       "<style scoped>\n",
       "    .dataframe tbody tr th:only-of-type {\n",
       "        vertical-align: middle;\n",
       "    }\n",
       "\n",
       "    .dataframe tbody tr th {\n",
       "        vertical-align: top;\n",
       "    }\n",
       "\n",
       "    .dataframe thead th {\n",
       "        text-align: right;\n",
       "    }\n",
       "</style>\n",
       "<table border=\"1\" class=\"dataframe\">\n",
       "  <thead>\n",
       "    <tr style=\"text-align: right;\">\n",
       "      <th></th>\n",
       "      <th>x</th>\n",
       "      <th>data</th>\n",
       "      <th>theory</th>\n",
       "      <th>stats</th>\n",
       "    </tr>\n",
       "  </thead>\n",
       "  <tbody>\n",
       "    <tr>\n",
       "      <th>0</th>\n",
       "      <td>0.00</td>\n",
       "      <td>5.030907</td>\n",
       "      <td>0.00000</td>\n",
       "      <td>9.023197</td>\n",
       "    </tr>\n",
       "    <tr>\n",
       "      <th>1</th>\n",
       "      <td>0.25</td>\n",
       "      <td>2.708431</td>\n",
       "      <td>1.80375</td>\n",
       "      <td>2.762139</td>\n",
       "    </tr>\n",
       "    <tr>\n",
       "      <th>2</th>\n",
       "      <td>0.50</td>\n",
       "      <td>4.960817</td>\n",
       "      <td>7.21500</td>\n",
       "      <td>-2.653336</td>\n",
       "    </tr>\n",
       "    <tr>\n",
       "      <th>3</th>\n",
       "      <td>0.75</td>\n",
       "      <td>14.764155</td>\n",
       "      <td>16.23375</td>\n",
       "      <td>3.497882</td>\n",
       "    </tr>\n",
       "    <tr>\n",
       "      <th>4</th>\n",
       "      <td>1.00</td>\n",
       "      <td>32.927852</td>\n",
       "      <td>28.86000</td>\n",
       "      <td>-2.330112</td>\n",
       "    </tr>\n",
       "  </tbody>\n",
       "</table>\n",
       "</div>"
      ],
      "text/plain": [
       "      x       data    theory     stats\n",
       "0  0.00   5.030907   0.00000  9.023197\n",
       "1  0.25   2.708431   1.80375  2.762139\n",
       "2  0.50   4.960817   7.21500 -2.653336\n",
       "3  0.75  14.764155  16.23375  3.497882\n",
       "4  1.00  32.927852  28.86000 -2.330112"
      ]
     },
     "metadata": {},
     "output_type": "display_data"
    },
    {
     "data": {
      "image/png": "[encoded data removed]",
      "text/plain": [
       "<Figure size 432x288 with 1 Axes>"
      ]
     },
     "metadata": {
      "needs_background": "light"
     },
     "output_type": "display_data"
    }
   ],
   "source": [
    "xGrid_3 = np.linspace(0, 1, 5)\n",
    "stats_3= np.array([np.random.normal(1.5, 5.0) for i in range(len(xGrid_3))])\n",
    "#syst1_3 = [np.random.normal(-0.05, 0.15) for i in range(len(xGrid_2))]\n",
    "#syst2_2 = [np.random.normal(0.15, 0.2) for i in range(len(xGrid_2))]\n",
    "#syst3_2 = [np.random.normal(0.2, 0.1) for i in range(len(xGrid_2))]\n",
    "systFluct_3= []\n",
    "dataGen_3 = DatasetGenerator(theoryParams3, theory3, xGrid_3, stats_3, systFluct_3)"
   ]
  },
  {
   "cell_type": "code",
   "execution_count": 37,
   "metadata": {},
   "outputs": [
    {
     "name": "stdout",
     "output_type": "stream",
     "text": [
      "Parameter at minimum :  [ 2.15499081  2.15501677 -3.82761656  3.06012689]\n",
      "Chisqr at minimum :  74.09647164306077\n",
      "Chisqr per dof :  1.2146962564436192\n",
      "Parameter error using hessian method : \n",
      " [0.54132802 0.54133346 0.41335642 0.34281813]\n"
     ]
    },
    {
     "data": {
      "image/png": "[encoded data removed]",
      "text/plain": [
       "<Figure size 432x288 with 1 Axes>"
      ]
     },
     "metadata": {
      "needs_background": "light"
     },
     "output_type": "display_data"
    },
    {
     "data": {
      "image/png": "[encoded data removed]",
      "text/plain": [
       "<Figure size 432x288 with 1 Axes>"
      ]
     },
     "metadata": {
      "needs_background": "light"
     },
     "output_type": "display_data"
    },
    {
     "data": {
      "image/png": "[encoded data removed]",
      "text/plain": [
       "<Figure size 432x288 with 1 Axes>"
      ]
     },
     "metadata": {
      "needs_background": "light"
     },
     "output_type": "display_data"
    },
    {
     "name": "stdout",
     "output_type": "stream",
     "text": [
      "Parameter error using hessian method : \n",
      " [0.54132802 0.54133346 0.41335642 0.34281813]\n"
     ]
    }
   ],
   "source": [
    "chi1 = ChiSquareCorr(dataGen_1, theory1)\n",
    "chi2 = ChiSquareCorr(dataGen_2, theory2)\n",
    "chi3 = ChiSquareCorr(dataGen_3, theory3)\n",
    "globalAnalysis = GlobalAnalysis(1, chi1, chi2, chi3)\n",
    "bound = [(-10,10), (-10,10), (-10,10), (-10,10)]\n",
    "globalAnalysis.runFit(bound)\n",
    "globalAnalysis.getParameterError()"
   ]
  },
  {
   "cell_type": "code",
   "execution_count": 38,
   "metadata": {},
   "outputs": [
    {
     "name": "stdout",
     "output_type": "stream",
     "text": [
      "Mean parAtmin : \n",
      " [ 0.41882301  0.41692933 -0.02644385  0.33250463]\n",
      "std parAtmin : \n",
      " [2.05029542 2.04876676 3.4442235  3.52953727]\n",
      "Mean funAtmin : \n",
      " 74.3397035659845\n",
      "std funAtmin : \n",
      " 15.905502596837177\n",
      "Mean z : \n",
      " [65.8290084  20.84839614 -0.17217586  4.39347775]\n",
      "std z : \n",
      " [188.44743163  60.46052563   1.77315816   3.83097469]\n"
     ]
    },
    {
     "data": {
      "image/png": "[encoded data removed]",
      "text/plain": [
       "<Figure size 432x288 with 1 Axes>"
      ]
     },
     "metadata": {
      "needs_background": "light"
     },
     "output_type": "display_data"
    },
    {
     "data": {
      "image/png": "[encoded data removed]",
      "text/plain": [
       "<Figure size 432x288 with 1 Axes>"
      ]
     },
     "metadata": {
      "needs_background": "light"
     },
     "output_type": "display_data"
    },
    {
     "data": {
      "image/png": "[encoded data removed]",
      "text/plain": [
       "<Figure size 432x288 with 1 Axes>"
      ]
     },
     "metadata": {
      "needs_background": "light"
     },
     "output_type": "display_data"
    },
    {
     "data": {
      "image/png": "[encoded data removed]",
      "text/plain": [
       "<Figure size 432x288 with 1 Axes>"
      ]
     },
     "metadata": {
      "needs_background": "light"
     },
     "output_type": "display_data"
    },
    {
     "data": {
      "image/png": "[encoded data removed]",
      "text/plain": [
       "<Figure size 432x288 with 1 Axes>"
      ]
     },
     "metadata": {
      "needs_background": "light"
     },
     "output_type": "display_data"
    },
    {
     "data": {
      "image/png": "[encoded data removed]",
      "text/plain": [
       "<Figure size 432x288 with 1 Axes>"
      ]
     },
     "metadata": {
      "needs_background": "light"
     },
     "output_type": "display_data"
    },
    {
     "data": {
      "image/png": "[encoded data removed]",
      "text/plain": [
       "<Figure size 432x288 with 1 Axes>"
      ]
     },
     "metadata": {
      "needs_background": "light"
     },
     "output_type": "display_data"
    },
    {
     "data": {
      "image/png": "[encoded data removed]",
      "text/plain": [
       "<Figure size 432x288 with 1 Axes>"
      ]
     },
     "metadata": {
      "needs_background": "light"
     },
     "output_type": "display_data"
    },
    {
     "data": {
      "image/png": "[encoded data removed]",
      "text/plain": [
       "<Figure size 432x288 with 1 Axes>"
      ]
     },
     "metadata": {
      "needs_background": "light"
     },
     "output_type": "display_data"
    }
   ],
   "source": [
    "globalAnalysis.runReplicaFits(bound, 500)\n",
    "#[2.8, 1.6, 2.6, -4.6  ]"
   ]
  },
  {
   "cell_type": "code",
   "execution_count": null,
   "metadata": {},
   "outputs": [],
   "source": []
  }
 ],
 "metadata": {
  "kernelspec": {
   "display_name": "Python 3.7.6 64-bit ('base': conda)",
   "language": "python",
   "name": "python37664bitbasecondaeea9493d990545e48f543ea2c14464bd"
  },
  "language_info": {
   "codemirror_mode": {
    "name": "ipython",
    "version": 3
   },
   "file_extension": ".py",
   "mimetype": "text/x-python",
   "name": "python",
   "nbconvert_exporter": "python",
   "pygments_lexer": "ipython3",
   "version": "3.7.6"
  }
 },
 "nbformat": 4,
 "nbformat_minor": 4
}
